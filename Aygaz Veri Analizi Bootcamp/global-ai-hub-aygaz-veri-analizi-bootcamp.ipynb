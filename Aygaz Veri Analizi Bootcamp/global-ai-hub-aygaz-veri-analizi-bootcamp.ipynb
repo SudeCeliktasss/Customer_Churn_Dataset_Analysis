{
 "cells": [
  {
   "cell_type": "markdown",
   "id": "c8492a2b",
   "metadata": {
    "papermill": {
     "duration": 0.014304,
     "end_time": "2024-11-21T21:47:12.031480",
     "exception": false,
     "start_time": "2024-11-21T21:47:12.017176",
     "status": "completed"
    },
    "tags": []
   },
   "source": [
    "# 0. Giriş"
   ]
  },
  {
   "cell_type": "markdown",
   "id": "7a4e150d",
   "metadata": {
    "papermill": {
     "duration": 0.011725,
     "end_time": "2024-11-21T21:47:12.056732",
     "exception": false,
     "start_time": "2024-11-21T21:47:12.045007",
     "status": "completed"
    },
    "tags": []
   },
   "source": [
    "Bu analizde, bir müşteri kaybı veri seti üzerinde çalışarak anlamlı içgörüler elde etmeye çalıştık.Veri seti aşağıdaki sütunları içermektedir:\n",
    "\n",
    "* CustomerID: Müşteri kimliği\n",
    "* Age: Müşteri yaşı\n",
    "* Gender: Cinsiyet\n",
    "* Tenure: Müşteri süresi (kaç yıldır hizmette)\n",
    "* Usage Frequency: Servis kullanım sıklığı\n",
    "* Support Calls: Destek çağrı sayısı\n",
    "* Payment Delay: Ödeme gecikmesi (gün cinsinden)\n",
    "* Subscription Type: Abonelik tipi\n",
    "* Contract Length: Sözleşme süresi\n",
    "* Total Spend: Toplam harcama\n",
    "* Last Interaction: Son etkileşim zamanı (gün cinsinden)\n",
    "* Churn: Müşterinin terk etme durumu (1: Terk etti, 0: Etmedi)"
   ]
  },
  {
   "cell_type": "markdown",
   "id": "c28feaee",
   "metadata": {
    "_cell_guid": "b1076dfc-b9ad-4769-8c92-a6c4dae69d19",
    "_uuid": "8f2839f25d086af736a60e9eeb907d3b93b6e0e5",
    "papermill": {
     "duration": 0.011609,
     "end_time": "2024-11-21T21:47:12.080476",
     "exception": false,
     "start_time": "2024-11-21T21:47:12.068867",
     "status": "completed"
    },
    "tags": []
   },
   "source": [
    "# 1. Veri Setinin Hazırlanması"
   ]
  },
  {
   "cell_type": "markdown",
   "id": "30d5ad28",
   "metadata": {
    "papermill": {
     "duration": 0.011417,
     "end_time": "2024-11-21T21:47:12.103702",
     "exception": false,
     "start_time": "2024-11-21T21:47:12.092285",
     "status": "completed"
    },
    "tags": []
   },
   "source": [
    "İhtiyacımız doğrultusunda kullanacağımız pandas, numpy, matplotlib ve seaborn gibi kütüphaneleri yükleyelim."
   ]
  },
  {
   "cell_type": "code",
   "execution_count": 1,
   "id": "5e650277",
   "metadata": {
    "execution": {
     "iopub.execute_input": "2024-11-21T21:47:12.129046Z",
     "iopub.status.busy": "2024-11-21T21:47:12.128623Z",
     "iopub.status.idle": "2024-11-21T21:47:14.611628Z",
     "shell.execute_reply": "2024-11-21T21:47:14.610762Z"
    },
    "papermill": {
     "duration": 2.498742,
     "end_time": "2024-11-21T21:47:14.614177",
     "exception": false,
     "start_time": "2024-11-21T21:47:12.115435",
     "status": "completed"
    },
    "tags": []
   },
   "outputs": [],
   "source": [
    "import pandas as pd\n",
    "import numpy as np\n",
    "import matplotlib.pyplot as plt\n",
    "import seaborn as sns"
   ]
  },
  {
   "cell_type": "markdown",
   "id": "2a572eff",
   "metadata": {
    "papermill": {
     "duration": 0.012093,
     "end_time": "2024-11-21T21:47:14.639136",
     "exception": false,
     "start_time": "2024-11-21T21:47:14.627043",
     "status": "completed"
    },
    "tags": []
   },
   "source": [
    "Veri setimizi notebook içerisine dahil edelim ve veri setimizi pandas ile okuyalım. Daha sonra bir değişkene atayalım. Oluşturduğumuz değişken üzerinde işlem yaparken değişkeni etkilememek amacıyla bir kopyasını oluşturalım."
   ]
  },
  {
   "cell_type": "code",
   "execution_count": 2,
   "id": "5fc3e6c0",
   "metadata": {
    "execution": {
     "iopub.execute_input": "2024-11-21T21:47:14.665820Z",
     "iopub.status.busy": "2024-11-21T21:47:14.665262Z",
     "iopub.status.idle": "2024-11-21T21:47:15.490499Z",
     "shell.execute_reply": "2024-11-21T21:47:15.489615Z"
    },
    "papermill": {
     "duration": 0.841107,
     "end_time": "2024-11-21T21:47:15.492781",
     "exception": false,
     "start_time": "2024-11-21T21:47:14.651674",
     "status": "completed"
    },
    "tags": []
   },
   "outputs": [],
   "source": [
    "file_path = \"/kaggle/input/customer-churn-dataset/customer_churn_dataset-training-master.csv\"\n",
    "df_ = pd.read_csv(file_path)\n",
    "df = df_.copy()"
   ]
  },
  {
   "cell_type": "markdown",
   "id": "6c8fee80",
   "metadata": {
    "papermill": {
     "duration": 0.01189,
     "end_time": "2024-11-21T21:47:15.516666",
     "exception": false,
     "start_time": "2024-11-21T21:47:15.504776",
     "status": "completed"
    },
    "tags": []
   },
   "source": [
    "Veri setimizde rastgele eksik veriler oluşturalım. Veri setimizin belirli bir kısmını eksik hale getirerek analiz etme sürecimizi test etmemizi sağlayalım."
   ]
  },
  {
   "cell_type": "code",
   "execution_count": 3,
   "id": "599776de",
   "metadata": {
    "execution": {
     "iopub.execute_input": "2024-11-21T21:47:15.542253Z",
     "iopub.status.busy": "2024-11-21T21:47:15.541867Z",
     "iopub.status.idle": "2024-11-21T21:47:18.126660Z",
     "shell.execute_reply": "2024-11-21T21:47:18.125478Z"
    },
    "papermill": {
     "duration": 2.600473,
     "end_time": "2024-11-21T21:47:18.129170",
     "exception": false,
     "start_time": "2024-11-21T21:47:15.528697",
     "status": "completed"
    },
    "tags": []
   },
   "outputs": [],
   "source": [
    "import random\n",
    "\n",
    "def add_random_missing_values(dataframe: pd.DataFrame,\n",
    "                              missing_rate: float = 0.05, # Eksik veri oranı %5\n",
    "                              seed: random = 42) -> pd.DataFrame: # Rastgelelik için başlangıç değeri\n",
    "    \n",
    "    df_missing = dataframe.copy()\n",
    "    df_size = dataframe.size\n",
    "    num_missing = int(df_size * missing_rate)\n",
    "    if seed:\n",
    "        random.seed(seed)\n",
    "\n",
    "    for _ in range(num_missing):\n",
    "        row_idx = random.randint(0, dataframe.shape[0] - 1) # Rastgele satır seçimi\n",
    "        col_idx = random.randint(0, dataframe.shape[1] - 1) # Rastgele sütun seçimi\n",
    "\n",
    "        df_missing.iat[row_idx, col_idx] = np.nan\n",
    "        \n",
    "    return df_missing\n",
    "   \n",
    "df = add_random_missing_values(dataframe = df,\n",
    "                               missing_rate = 0.03) # %3 eksik veri"
   ]
  },
  {
   "cell_type": "markdown",
   "id": "629e96a3",
   "metadata": {
    "papermill": {
     "duration": 0.012272,
     "end_time": "2024-11-21T21:47:18.156637",
     "exception": false,
     "start_time": "2024-11-21T21:47:18.144365",
     "status": "completed"
    },
    "tags": []
   },
   "source": [
    "# 2. Veri Seti Hakkında Genel Bilgiler"
   ]
  },
  {
   "cell_type": "markdown",
   "id": "b5690787",
   "metadata": {
    "papermill": {
     "duration": 0.011583,
     "end_time": "2024-11-21T21:47:18.180139",
     "exception": false,
     "start_time": "2024-11-21T21:47:18.168556",
     "status": "completed"
    },
    "tags": []
   },
   "source": [
    "Veri setimizin yapısını ve genel özelliklerini inceleyelim. Burada veri setimizin sütunları, satırları, veri tipi ve değişkenleri kontrol edeceğiz."
   ]
  },
  {
   "cell_type": "code",
   "execution_count": 4,
   "id": "1c172998",
   "metadata": {
    "execution": {
     "iopub.execute_input": "2024-11-21T21:47:18.205626Z",
     "iopub.status.busy": "2024-11-21T21:47:18.204821Z",
     "iopub.status.idle": "2024-11-21T21:47:18.232454Z",
     "shell.execute_reply": "2024-11-21T21:47:18.231386Z"
    },
    "papermill": {
     "duration": 0.042607,
     "end_time": "2024-11-21T21:47:18.234482",
     "exception": false,
     "start_time": "2024-11-21T21:47:18.191875",
     "status": "completed"
    },
    "tags": []
   },
   "outputs": [
    {
     "data": {
      "text/html": [
       "<div>\n",
       "<style scoped>\n",
       "    .dataframe tbody tr th:only-of-type {\n",
       "        vertical-align: middle;\n",
       "    }\n",
       "\n",
       "    .dataframe tbody tr th {\n",
       "        vertical-align: top;\n",
       "    }\n",
       "\n",
       "    .dataframe thead th {\n",
       "        text-align: right;\n",
       "    }\n",
       "</style>\n",
       "<table border=\"1\" class=\"dataframe\">\n",
       "  <thead>\n",
       "    <tr style=\"text-align: right;\">\n",
       "      <th></th>\n",
       "      <th>CustomerID</th>\n",
       "      <th>Age</th>\n",
       "      <th>Gender</th>\n",
       "      <th>Tenure</th>\n",
       "      <th>Usage Frequency</th>\n",
       "      <th>Support Calls</th>\n",
       "      <th>Payment Delay</th>\n",
       "      <th>Subscription Type</th>\n",
       "      <th>Contract Length</th>\n",
       "      <th>Total Spend</th>\n",
       "      <th>Last Interaction</th>\n",
       "      <th>Churn</th>\n",
       "    </tr>\n",
       "  </thead>\n",
       "  <tbody>\n",
       "    <tr>\n",
       "      <th>0</th>\n",
       "      <td>2.0</td>\n",
       "      <td>30.0</td>\n",
       "      <td>Female</td>\n",
       "      <td>39.0</td>\n",
       "      <td>14.0</td>\n",
       "      <td>5.0</td>\n",
       "      <td>18.0</td>\n",
       "      <td>Standard</td>\n",
       "      <td>Annual</td>\n",
       "      <td>932.0</td>\n",
       "      <td>17.0</td>\n",
       "      <td>1.0</td>\n",
       "    </tr>\n",
       "    <tr>\n",
       "      <th>1</th>\n",
       "      <td>3.0</td>\n",
       "      <td>65.0</td>\n",
       "      <td>Female</td>\n",
       "      <td>49.0</td>\n",
       "      <td>1.0</td>\n",
       "      <td>10.0</td>\n",
       "      <td>8.0</td>\n",
       "      <td>Basic</td>\n",
       "      <td>Monthly</td>\n",
       "      <td>557.0</td>\n",
       "      <td>6.0</td>\n",
       "      <td>1.0</td>\n",
       "    </tr>\n",
       "    <tr>\n",
       "      <th>2</th>\n",
       "      <td>4.0</td>\n",
       "      <td>55.0</td>\n",
       "      <td>Female</td>\n",
       "      <td>14.0</td>\n",
       "      <td>4.0</td>\n",
       "      <td>6.0</td>\n",
       "      <td>18.0</td>\n",
       "      <td>Basic</td>\n",
       "      <td>Quarterly</td>\n",
       "      <td>185.0</td>\n",
       "      <td>3.0</td>\n",
       "      <td>1.0</td>\n",
       "    </tr>\n",
       "    <tr>\n",
       "      <th>3</th>\n",
       "      <td>5.0</td>\n",
       "      <td>58.0</td>\n",
       "      <td>Male</td>\n",
       "      <td>38.0</td>\n",
       "      <td>21.0</td>\n",
       "      <td>7.0</td>\n",
       "      <td>7.0</td>\n",
       "      <td>Standard</td>\n",
       "      <td>Monthly</td>\n",
       "      <td>396.0</td>\n",
       "      <td>29.0</td>\n",
       "      <td>1.0</td>\n",
       "    </tr>\n",
       "    <tr>\n",
       "      <th>4</th>\n",
       "      <td>6.0</td>\n",
       "      <td>23.0</td>\n",
       "      <td>Male</td>\n",
       "      <td>32.0</td>\n",
       "      <td>NaN</td>\n",
       "      <td>5.0</td>\n",
       "      <td>8.0</td>\n",
       "      <td>Basic</td>\n",
       "      <td>Monthly</td>\n",
       "      <td>617.0</td>\n",
       "      <td>20.0</td>\n",
       "      <td>1.0</td>\n",
       "    </tr>\n",
       "  </tbody>\n",
       "</table>\n",
       "</div>"
      ],
      "text/plain": [
       "   CustomerID   Age  Gender  Tenure  Usage Frequency  Support Calls  \\\n",
       "0         2.0  30.0  Female    39.0             14.0            5.0   \n",
       "1         3.0  65.0  Female    49.0              1.0           10.0   \n",
       "2         4.0  55.0  Female    14.0              4.0            6.0   \n",
       "3         5.0  58.0    Male    38.0             21.0            7.0   \n",
       "4         6.0  23.0    Male    32.0              NaN            5.0   \n",
       "\n",
       "   Payment Delay Subscription Type Contract Length  Total Spend  \\\n",
       "0           18.0          Standard          Annual        932.0   \n",
       "1            8.0             Basic         Monthly        557.0   \n",
       "2           18.0             Basic       Quarterly        185.0   \n",
       "3            7.0          Standard         Monthly        396.0   \n",
       "4            8.0             Basic         Monthly        617.0   \n",
       "\n",
       "   Last Interaction  Churn  \n",
       "0              17.0    1.0  \n",
       "1               6.0    1.0  \n",
       "2               3.0    1.0  \n",
       "3              29.0    1.0  \n",
       "4              20.0    1.0  "
      ]
     },
     "execution_count": 4,
     "metadata": {},
     "output_type": "execute_result"
    }
   ],
   "source": [
    "df.head(5)"
   ]
  },
  {
   "cell_type": "code",
   "execution_count": 5,
   "id": "28b46633",
   "metadata": {
    "execution": {
     "iopub.execute_input": "2024-11-21T21:47:18.260766Z",
     "iopub.status.busy": "2024-11-21T21:47:18.260417Z",
     "iopub.status.idle": "2024-11-21T21:47:18.278504Z",
     "shell.execute_reply": "2024-11-21T21:47:18.277468Z"
    },
    "papermill": {
     "duration": 0.033788,
     "end_time": "2024-11-21T21:47:18.280748",
     "exception": false,
     "start_time": "2024-11-21T21:47:18.246960",
     "status": "completed"
    },
    "tags": []
   },
   "outputs": [
    {
     "data": {
      "text/html": [
       "<div>\n",
       "<style scoped>\n",
       "    .dataframe tbody tr th:only-of-type {\n",
       "        vertical-align: middle;\n",
       "    }\n",
       "\n",
       "    .dataframe tbody tr th {\n",
       "        vertical-align: top;\n",
       "    }\n",
       "\n",
       "    .dataframe thead th {\n",
       "        text-align: right;\n",
       "    }\n",
       "</style>\n",
       "<table border=\"1\" class=\"dataframe\">\n",
       "  <thead>\n",
       "    <tr style=\"text-align: right;\">\n",
       "      <th></th>\n",
       "      <th>CustomerID</th>\n",
       "      <th>Age</th>\n",
       "      <th>Gender</th>\n",
       "      <th>Tenure</th>\n",
       "      <th>Usage Frequency</th>\n",
       "      <th>Support Calls</th>\n",
       "      <th>Payment Delay</th>\n",
       "      <th>Subscription Type</th>\n",
       "      <th>Contract Length</th>\n",
       "      <th>Total Spend</th>\n",
       "      <th>Last Interaction</th>\n",
       "      <th>Churn</th>\n",
       "    </tr>\n",
       "  </thead>\n",
       "  <tbody>\n",
       "    <tr>\n",
       "      <th>440828</th>\n",
       "      <td>449995.0</td>\n",
       "      <td>42.0</td>\n",
       "      <td>Male</td>\n",
       "      <td>54.0</td>\n",
       "      <td>15.0</td>\n",
       "      <td>1.0</td>\n",
       "      <td>3.0</td>\n",
       "      <td>Premium</td>\n",
       "      <td>Annual</td>\n",
       "      <td>716.38</td>\n",
       "      <td>8.0</td>\n",
       "      <td>0.0</td>\n",
       "    </tr>\n",
       "    <tr>\n",
       "      <th>440829</th>\n",
       "      <td>449996.0</td>\n",
       "      <td>25.0</td>\n",
       "      <td>Female</td>\n",
       "      <td>8.0</td>\n",
       "      <td>13.0</td>\n",
       "      <td>1.0</td>\n",
       "      <td>20.0</td>\n",
       "      <td>Premium</td>\n",
       "      <td>Annual</td>\n",
       "      <td>745.38</td>\n",
       "      <td>2.0</td>\n",
       "      <td>0.0</td>\n",
       "    </tr>\n",
       "    <tr>\n",
       "      <th>440830</th>\n",
       "      <td>449997.0</td>\n",
       "      <td>26.0</td>\n",
       "      <td>Male</td>\n",
       "      <td>35.0</td>\n",
       "      <td>27.0</td>\n",
       "      <td>1.0</td>\n",
       "      <td>5.0</td>\n",
       "      <td>Standard</td>\n",
       "      <td>Quarterly</td>\n",
       "      <td>977.31</td>\n",
       "      <td>9.0</td>\n",
       "      <td>0.0</td>\n",
       "    </tr>\n",
       "    <tr>\n",
       "      <th>440831</th>\n",
       "      <td>449998.0</td>\n",
       "      <td>28.0</td>\n",
       "      <td>Male</td>\n",
       "      <td>55.0</td>\n",
       "      <td>14.0</td>\n",
       "      <td>2.0</td>\n",
       "      <td>0.0</td>\n",
       "      <td>Standard</td>\n",
       "      <td>Quarterly</td>\n",
       "      <td>602.55</td>\n",
       "      <td>2.0</td>\n",
       "      <td>0.0</td>\n",
       "    </tr>\n",
       "    <tr>\n",
       "      <th>440832</th>\n",
       "      <td>449999.0</td>\n",
       "      <td>31.0</td>\n",
       "      <td>Male</td>\n",
       "      <td>48.0</td>\n",
       "      <td>20.0</td>\n",
       "      <td>1.0</td>\n",
       "      <td>14.0</td>\n",
       "      <td>Premium</td>\n",
       "      <td>Quarterly</td>\n",
       "      <td>567.77</td>\n",
       "      <td>21.0</td>\n",
       "      <td>0.0</td>\n",
       "    </tr>\n",
       "  </tbody>\n",
       "</table>\n",
       "</div>"
      ],
      "text/plain": [
       "        CustomerID   Age  Gender  Tenure  Usage Frequency  Support Calls  \\\n",
       "440828    449995.0  42.0    Male    54.0             15.0            1.0   \n",
       "440829    449996.0  25.0  Female     8.0             13.0            1.0   \n",
       "440830    449997.0  26.0    Male    35.0             27.0            1.0   \n",
       "440831    449998.0  28.0    Male    55.0             14.0            2.0   \n",
       "440832    449999.0  31.0    Male    48.0             20.0            1.0   \n",
       "\n",
       "        Payment Delay Subscription Type Contract Length  Total Spend  \\\n",
       "440828            3.0           Premium          Annual       716.38   \n",
       "440829           20.0           Premium          Annual       745.38   \n",
       "440830            5.0          Standard       Quarterly       977.31   \n",
       "440831            0.0          Standard       Quarterly       602.55   \n",
       "440832           14.0           Premium       Quarterly       567.77   \n",
       "\n",
       "        Last Interaction  Churn  \n",
       "440828               8.0    0.0  \n",
       "440829               2.0    0.0  \n",
       "440830               9.0    0.0  \n",
       "440831               2.0    0.0  \n",
       "440832              21.0    0.0  "
      ]
     },
     "execution_count": 5,
     "metadata": {},
     "output_type": "execute_result"
    }
   ],
   "source": [
    "df.tail(5)"
   ]
  },
  {
   "cell_type": "code",
   "execution_count": 6,
   "id": "cdbd8566",
   "metadata": {
    "execution": {
     "iopub.execute_input": "2024-11-21T21:47:18.307976Z",
     "iopub.status.busy": "2024-11-21T21:47:18.307155Z",
     "iopub.status.idle": "2024-11-21T21:47:18.332707Z",
     "shell.execute_reply": "2024-11-21T21:47:18.331695Z"
    },
    "papermill": {
     "duration": 0.041312,
     "end_time": "2024-11-21T21:47:18.334920",
     "exception": false,
     "start_time": "2024-11-21T21:47:18.293608",
     "status": "completed"
    },
    "tags": []
   },
   "outputs": [
    {
     "data": {
      "text/html": [
       "<div>\n",
       "<style scoped>\n",
       "    .dataframe tbody tr th:only-of-type {\n",
       "        vertical-align: middle;\n",
       "    }\n",
       "\n",
       "    .dataframe tbody tr th {\n",
       "        vertical-align: top;\n",
       "    }\n",
       "\n",
       "    .dataframe thead th {\n",
       "        text-align: right;\n",
       "    }\n",
       "</style>\n",
       "<table border=\"1\" class=\"dataframe\">\n",
       "  <thead>\n",
       "    <tr style=\"text-align: right;\">\n",
       "      <th></th>\n",
       "      <th>CustomerID</th>\n",
       "      <th>Age</th>\n",
       "      <th>Gender</th>\n",
       "      <th>Tenure</th>\n",
       "      <th>Usage Frequency</th>\n",
       "      <th>Support Calls</th>\n",
       "      <th>Payment Delay</th>\n",
       "      <th>Subscription Type</th>\n",
       "      <th>Contract Length</th>\n",
       "      <th>Total Spend</th>\n",
       "      <th>Last Interaction</th>\n",
       "      <th>Churn</th>\n",
       "    </tr>\n",
       "  </thead>\n",
       "  <tbody>\n",
       "    <tr>\n",
       "      <th>0</th>\n",
       "      <td>2.0</td>\n",
       "      <td>30.0</td>\n",
       "      <td>Female</td>\n",
       "      <td>39.0</td>\n",
       "      <td>14.0</td>\n",
       "      <td>5.0</td>\n",
       "      <td>18.0</td>\n",
       "      <td>Standard</td>\n",
       "      <td>Annual</td>\n",
       "      <td>932.00</td>\n",
       "      <td>17.0</td>\n",
       "      <td>1.0</td>\n",
       "    </tr>\n",
       "    <tr>\n",
       "      <th>1</th>\n",
       "      <td>3.0</td>\n",
       "      <td>65.0</td>\n",
       "      <td>Female</td>\n",
       "      <td>49.0</td>\n",
       "      <td>1.0</td>\n",
       "      <td>10.0</td>\n",
       "      <td>8.0</td>\n",
       "      <td>Basic</td>\n",
       "      <td>Monthly</td>\n",
       "      <td>557.00</td>\n",
       "      <td>6.0</td>\n",
       "      <td>1.0</td>\n",
       "    </tr>\n",
       "    <tr>\n",
       "      <th>2</th>\n",
       "      <td>4.0</td>\n",
       "      <td>55.0</td>\n",
       "      <td>Female</td>\n",
       "      <td>14.0</td>\n",
       "      <td>4.0</td>\n",
       "      <td>6.0</td>\n",
       "      <td>18.0</td>\n",
       "      <td>Basic</td>\n",
       "      <td>Quarterly</td>\n",
       "      <td>185.00</td>\n",
       "      <td>3.0</td>\n",
       "      <td>1.0</td>\n",
       "    </tr>\n",
       "    <tr>\n",
       "      <th>3</th>\n",
       "      <td>5.0</td>\n",
       "      <td>58.0</td>\n",
       "      <td>Male</td>\n",
       "      <td>38.0</td>\n",
       "      <td>21.0</td>\n",
       "      <td>7.0</td>\n",
       "      <td>7.0</td>\n",
       "      <td>Standard</td>\n",
       "      <td>Monthly</td>\n",
       "      <td>396.00</td>\n",
       "      <td>29.0</td>\n",
       "      <td>1.0</td>\n",
       "    </tr>\n",
       "    <tr>\n",
       "      <th>4</th>\n",
       "      <td>6.0</td>\n",
       "      <td>23.0</td>\n",
       "      <td>Male</td>\n",
       "      <td>32.0</td>\n",
       "      <td>NaN</td>\n",
       "      <td>5.0</td>\n",
       "      <td>8.0</td>\n",
       "      <td>Basic</td>\n",
       "      <td>Monthly</td>\n",
       "      <td>617.00</td>\n",
       "      <td>20.0</td>\n",
       "      <td>1.0</td>\n",
       "    </tr>\n",
       "    <tr>\n",
       "      <th>...</th>\n",
       "      <td>...</td>\n",
       "      <td>...</td>\n",
       "      <td>...</td>\n",
       "      <td>...</td>\n",
       "      <td>...</td>\n",
       "      <td>...</td>\n",
       "      <td>...</td>\n",
       "      <td>...</td>\n",
       "      <td>...</td>\n",
       "      <td>...</td>\n",
       "      <td>...</td>\n",
       "      <td>...</td>\n",
       "    </tr>\n",
       "    <tr>\n",
       "      <th>440828</th>\n",
       "      <td>449995.0</td>\n",
       "      <td>42.0</td>\n",
       "      <td>Male</td>\n",
       "      <td>54.0</td>\n",
       "      <td>15.0</td>\n",
       "      <td>1.0</td>\n",
       "      <td>3.0</td>\n",
       "      <td>Premium</td>\n",
       "      <td>Annual</td>\n",
       "      <td>716.38</td>\n",
       "      <td>8.0</td>\n",
       "      <td>0.0</td>\n",
       "    </tr>\n",
       "    <tr>\n",
       "      <th>440829</th>\n",
       "      <td>449996.0</td>\n",
       "      <td>25.0</td>\n",
       "      <td>Female</td>\n",
       "      <td>8.0</td>\n",
       "      <td>13.0</td>\n",
       "      <td>1.0</td>\n",
       "      <td>20.0</td>\n",
       "      <td>Premium</td>\n",
       "      <td>Annual</td>\n",
       "      <td>745.38</td>\n",
       "      <td>2.0</td>\n",
       "      <td>0.0</td>\n",
       "    </tr>\n",
       "    <tr>\n",
       "      <th>440830</th>\n",
       "      <td>449997.0</td>\n",
       "      <td>26.0</td>\n",
       "      <td>Male</td>\n",
       "      <td>35.0</td>\n",
       "      <td>27.0</td>\n",
       "      <td>1.0</td>\n",
       "      <td>5.0</td>\n",
       "      <td>Standard</td>\n",
       "      <td>Quarterly</td>\n",
       "      <td>977.31</td>\n",
       "      <td>9.0</td>\n",
       "      <td>0.0</td>\n",
       "    </tr>\n",
       "    <tr>\n",
       "      <th>440831</th>\n",
       "      <td>449998.0</td>\n",
       "      <td>28.0</td>\n",
       "      <td>Male</td>\n",
       "      <td>55.0</td>\n",
       "      <td>14.0</td>\n",
       "      <td>2.0</td>\n",
       "      <td>0.0</td>\n",
       "      <td>Standard</td>\n",
       "      <td>Quarterly</td>\n",
       "      <td>602.55</td>\n",
       "      <td>2.0</td>\n",
       "      <td>0.0</td>\n",
       "    </tr>\n",
       "    <tr>\n",
       "      <th>440832</th>\n",
       "      <td>449999.0</td>\n",
       "      <td>31.0</td>\n",
       "      <td>Male</td>\n",
       "      <td>48.0</td>\n",
       "      <td>20.0</td>\n",
       "      <td>1.0</td>\n",
       "      <td>14.0</td>\n",
       "      <td>Premium</td>\n",
       "      <td>Quarterly</td>\n",
       "      <td>567.77</td>\n",
       "      <td>21.0</td>\n",
       "      <td>0.0</td>\n",
       "    </tr>\n",
       "  </tbody>\n",
       "</table>\n",
       "<p>440833 rows × 12 columns</p>\n",
       "</div>"
      ],
      "text/plain": [
       "        CustomerID   Age  Gender  Tenure  Usage Frequency  Support Calls  \\\n",
       "0              2.0  30.0  Female    39.0             14.0            5.0   \n",
       "1              3.0  65.0  Female    49.0              1.0           10.0   \n",
       "2              4.0  55.0  Female    14.0              4.0            6.0   \n",
       "3              5.0  58.0    Male    38.0             21.0            7.0   \n",
       "4              6.0  23.0    Male    32.0              NaN            5.0   \n",
       "...            ...   ...     ...     ...              ...            ...   \n",
       "440828    449995.0  42.0    Male    54.0             15.0            1.0   \n",
       "440829    449996.0  25.0  Female     8.0             13.0            1.0   \n",
       "440830    449997.0  26.0    Male    35.0             27.0            1.0   \n",
       "440831    449998.0  28.0    Male    55.0             14.0            2.0   \n",
       "440832    449999.0  31.0    Male    48.0             20.0            1.0   \n",
       "\n",
       "        Payment Delay Subscription Type Contract Length  Total Spend  \\\n",
       "0                18.0          Standard          Annual       932.00   \n",
       "1                 8.0             Basic         Monthly       557.00   \n",
       "2                18.0             Basic       Quarterly       185.00   \n",
       "3                 7.0          Standard         Monthly       396.00   \n",
       "4                 8.0             Basic         Monthly       617.00   \n",
       "...               ...               ...             ...          ...   \n",
       "440828            3.0           Premium          Annual       716.38   \n",
       "440829           20.0           Premium          Annual       745.38   \n",
       "440830            5.0          Standard       Quarterly       977.31   \n",
       "440831            0.0          Standard       Quarterly       602.55   \n",
       "440832           14.0           Premium       Quarterly       567.77   \n",
       "\n",
       "        Last Interaction  Churn  \n",
       "0                   17.0    1.0  \n",
       "1                    6.0    1.0  \n",
       "2                    3.0    1.0  \n",
       "3                   29.0    1.0  \n",
       "4                   20.0    1.0  \n",
       "...                  ...    ...  \n",
       "440828               8.0    0.0  \n",
       "440829               2.0    0.0  \n",
       "440830               9.0    0.0  \n",
       "440831               2.0    0.0  \n",
       "440832              21.0    0.0  \n",
       "\n",
       "[440833 rows x 12 columns]"
      ]
     },
     "execution_count": 6,
     "metadata": {},
     "output_type": "execute_result"
    }
   ],
   "source": [
    "df"
   ]
  },
  {
   "cell_type": "markdown",
   "id": "39b4ad0e",
   "metadata": {
    "papermill": {
     "duration": 0.012626,
     "end_time": "2024-11-21T21:47:18.360529",
     "exception": false,
     "start_time": "2024-11-21T21:47:18.347903",
     "status": "completed"
    },
    "tags": []
   },
   "source": [
    "Veri setindeki satır ve sütunları görebilmek için .shape metodunu kullanacağız. İlk çıktsı satır ikincisi ise sütun sayılarını verecektir."
   ]
  },
  {
   "cell_type": "code",
   "execution_count": 7,
   "id": "33ce5691",
   "metadata": {
    "execution": {
     "iopub.execute_input": "2024-11-21T21:47:18.387690Z",
     "iopub.status.busy": "2024-11-21T21:47:18.387320Z",
     "iopub.status.idle": "2024-11-21T21:47:18.393813Z",
     "shell.execute_reply": "2024-11-21T21:47:18.392696Z"
    },
    "papermill": {
     "duration": 0.022548,
     "end_time": "2024-11-21T21:47:18.395822",
     "exception": false,
     "start_time": "2024-11-21T21:47:18.373274",
     "status": "completed"
    },
    "tags": []
   },
   "outputs": [
    {
     "data": {
      "text/plain": [
       "(440833, 12)"
      ]
     },
     "execution_count": 7,
     "metadata": {},
     "output_type": "execute_result"
    }
   ],
   "source": [
    "df.shape"
   ]
  },
  {
   "cell_type": "markdown",
   "id": "fe9b5283",
   "metadata": {
    "papermill": {
     "duration": 0.012865,
     "end_time": "2024-11-21T21:47:18.421822",
     "exception": false,
     "start_time": "2024-11-21T21:47:18.408957",
     "status": "completed"
    },
    "tags": []
   },
   "source": [
    "Burada veri setindeki kolonların isimlerine ve kolon sayılarına ulaşacağız."
   ]
  },
  {
   "cell_type": "code",
   "execution_count": 8,
   "id": "353cc8b4",
   "metadata": {
    "execution": {
     "iopub.execute_input": "2024-11-21T21:47:18.449661Z",
     "iopub.status.busy": "2024-11-21T21:47:18.449275Z",
     "iopub.status.idle": "2024-11-21T21:47:18.454865Z",
     "shell.execute_reply": "2024-11-21T21:47:18.453879Z"
    },
    "papermill": {
     "duration": 0.022351,
     "end_time": "2024-11-21T21:47:18.457242",
     "exception": false,
     "start_time": "2024-11-21T21:47:18.434891",
     "status": "completed"
    },
    "tags": []
   },
   "outputs": [
    {
     "name": "stdout",
     "output_type": "stream",
     "text": [
      "['CustomerID', 'Age', 'Gender', 'Tenure', 'Usage Frequency', 'Support Calls', 'Payment Delay', 'Subscription Type', 'Contract Length', 'Total Spend', 'Last Interaction', 'Churn'] \n",
      "\n",
      "Veri seti içerisindeki toplam 12 kolon vardır.\n",
      "\n"
     ]
    }
   ],
   "source": [
    "print(list(df.columns), '\\n')\n",
    "print(f\"Veri seti içerisindeki toplam {len(df.columns)} kolon vardır.\\n\")"
   ]
  },
  {
   "cell_type": "markdown",
   "id": "da370e47",
   "metadata": {
    "papermill": {
     "duration": 0.013074,
     "end_time": "2024-11-21T21:47:18.483445",
     "exception": false,
     "start_time": "2024-11-21T21:47:18.470371",
     "status": "completed"
    },
    "tags": []
   },
   "source": [
    "Verimiz hakkında yapısal ve sayısal özellikler için açıklayıcı istatistiksel bilgilere(ortalama, standart sapma, max, min vb.) ulaşalım."
   ]
  },
  {
   "cell_type": "code",
   "execution_count": 9,
   "id": "2da0472f",
   "metadata": {
    "execution": {
     "iopub.execute_input": "2024-11-21T21:47:18.511229Z",
     "iopub.status.busy": "2024-11-21T21:47:18.510818Z",
     "iopub.status.idle": "2024-11-21T21:47:18.597522Z",
     "shell.execute_reply": "2024-11-21T21:47:18.596551Z"
    },
    "papermill": {
     "duration": 0.103124,
     "end_time": "2024-11-21T21:47:18.599769",
     "exception": false,
     "start_time": "2024-11-21T21:47:18.496645",
     "status": "completed"
    },
    "tags": []
   },
   "outputs": [
    {
     "name": "stdout",
     "output_type": "stream",
     "text": [
      "<class 'pandas.core.frame.DataFrame'>\n",
      "RangeIndex: 440833 entries, 0 to 440832\n",
      "Data columns (total 12 columns):\n",
      " #   Column             Non-Null Count   Dtype  \n",
      "---  ------             --------------   -----  \n",
      " 0   CustomerID         427876 non-null  float64\n",
      " 1   Age                427774 non-null  float64\n",
      " 2   Gender             427697 non-null  object \n",
      " 3   Tenure             427890 non-null  float64\n",
      " 4   Usage Frequency    427785 non-null  float64\n",
      " 5   Support Calls      427901 non-null  float64\n",
      " 6   Payment Delay      427843 non-null  float64\n",
      " 7   Subscription Type  427682 non-null  object \n",
      " 8   Contract Length    427741 non-null  object \n",
      " 9   Total Spend        427729 non-null  float64\n",
      " 10  Last Interaction   427716 non-null  float64\n",
      " 11  Churn              427921 non-null  float64\n",
      "dtypes: float64(9), object(3)\n",
      "memory usage: 40.4+ MB\n"
     ]
    }
   ],
   "source": [
    "df.info()"
   ]
  },
  {
   "cell_type": "code",
   "execution_count": 10,
   "id": "020ca57e",
   "metadata": {
    "execution": {
     "iopub.execute_input": "2024-11-21T21:47:18.630003Z",
     "iopub.status.busy": "2024-11-21T21:47:18.629607Z",
     "iopub.status.idle": "2024-11-21T21:47:18.637667Z",
     "shell.execute_reply": "2024-11-21T21:47:18.636625Z"
    },
    "papermill": {
     "duration": 0.024902,
     "end_time": "2024-11-21T21:47:18.639786",
     "exception": false,
     "start_time": "2024-11-21T21:47:18.614884",
     "status": "completed"
    },
    "tags": []
   },
   "outputs": [
    {
     "data": {
      "text/plain": [
       "CustomerID           float64\n",
       "Age                  float64\n",
       "Gender                object\n",
       "Tenure               float64\n",
       "Usage Frequency      float64\n",
       "Support Calls        float64\n",
       "Payment Delay        float64\n",
       "Subscription Type     object\n",
       "Contract Length       object\n",
       "Total Spend          float64\n",
       "Last Interaction     float64\n",
       "Churn                float64\n",
       "dtype: object"
      ]
     },
     "execution_count": 10,
     "metadata": {},
     "output_type": "execute_result"
    }
   ],
   "source": [
    "df.dtypes"
   ]
  },
  {
   "cell_type": "code",
   "execution_count": 11,
   "id": "c8827f02",
   "metadata": {
    "execution": {
     "iopub.execute_input": "2024-11-21T21:47:18.668818Z",
     "iopub.status.busy": "2024-11-21T21:47:18.668458Z",
     "iopub.status.idle": "2024-11-21T21:47:18.896263Z",
     "shell.execute_reply": "2024-11-21T21:47:18.895138Z"
    },
    "papermill": {
     "duration": 0.245257,
     "end_time": "2024-11-21T21:47:18.898339",
     "exception": false,
     "start_time": "2024-11-21T21:47:18.653082",
     "status": "completed"
    },
    "tags": []
   },
   "outputs": [
    {
     "data": {
      "text/html": [
       "<div>\n",
       "<style scoped>\n",
       "    .dataframe tbody tr th:only-of-type {\n",
       "        vertical-align: middle;\n",
       "    }\n",
       "\n",
       "    .dataframe tbody tr th {\n",
       "        vertical-align: top;\n",
       "    }\n",
       "\n",
       "    .dataframe thead th {\n",
       "        text-align: right;\n",
       "    }\n",
       "</style>\n",
       "<table border=\"1\" class=\"dataframe\">\n",
       "  <thead>\n",
       "    <tr style=\"text-align: right;\">\n",
       "      <th></th>\n",
       "      <th>count</th>\n",
       "      <th>mean</th>\n",
       "      <th>std</th>\n",
       "      <th>min</th>\n",
       "      <th>25%</th>\n",
       "      <th>50%</th>\n",
       "      <th>75%</th>\n",
       "      <th>max</th>\n",
       "    </tr>\n",
       "  </thead>\n",
       "  <tbody>\n",
       "    <tr>\n",
       "      <th>CustomerID</th>\n",
       "      <td>427876.0</td>\n",
       "      <td>225464.545504</td>\n",
       "      <td>129526.916324</td>\n",
       "      <td>2.0</td>\n",
       "      <td>113693.75</td>\n",
       "      <td>226252.5</td>\n",
       "      <td>337792.25</td>\n",
       "      <td>449999.0</td>\n",
       "    </tr>\n",
       "    <tr>\n",
       "      <th>Age</th>\n",
       "      <td>427774.0</td>\n",
       "      <td>39.368809</td>\n",
       "      <td>12.445871</td>\n",
       "      <td>18.0</td>\n",
       "      <td>29.00</td>\n",
       "      <td>39.0</td>\n",
       "      <td>48.00</td>\n",
       "      <td>65.0</td>\n",
       "    </tr>\n",
       "    <tr>\n",
       "      <th>Tenure</th>\n",
       "      <td>427890.0</td>\n",
       "      <td>31.262317</td>\n",
       "      <td>17.253462</td>\n",
       "      <td>1.0</td>\n",
       "      <td>16.00</td>\n",
       "      <td>32.0</td>\n",
       "      <td>46.00</td>\n",
       "      <td>60.0</td>\n",
       "    </tr>\n",
       "    <tr>\n",
       "      <th>Usage Frequency</th>\n",
       "      <td>427785.0</td>\n",
       "      <td>15.809769</td>\n",
       "      <td>8.586941</td>\n",
       "      <td>1.0</td>\n",
       "      <td>9.00</td>\n",
       "      <td>16.0</td>\n",
       "      <td>23.00</td>\n",
       "      <td>30.0</td>\n",
       "    </tr>\n",
       "    <tr>\n",
       "      <th>Support Calls</th>\n",
       "      <td>427901.0</td>\n",
       "      <td>3.604479</td>\n",
       "      <td>3.070686</td>\n",
       "      <td>0.0</td>\n",
       "      <td>1.00</td>\n",
       "      <td>3.0</td>\n",
       "      <td>6.00</td>\n",
       "      <td>10.0</td>\n",
       "    </tr>\n",
       "    <tr>\n",
       "      <th>Payment Delay</th>\n",
       "      <td>427843.0</td>\n",
       "      <td>12.970510</td>\n",
       "      <td>8.259023</td>\n",
       "      <td>0.0</td>\n",
       "      <td>6.00</td>\n",
       "      <td>12.0</td>\n",
       "      <td>19.00</td>\n",
       "      <td>30.0</td>\n",
       "    </tr>\n",
       "    <tr>\n",
       "      <th>Total Spend</th>\n",
       "      <td>427729.0</td>\n",
       "      <td>631.697853</td>\n",
       "      <td>240.762626</td>\n",
       "      <td>100.0</td>\n",
       "      <td>481.00</td>\n",
       "      <td>661.0</td>\n",
       "      <td>830.00</td>\n",
       "      <td>1000.0</td>\n",
       "    </tr>\n",
       "    <tr>\n",
       "      <th>Last Interaction</th>\n",
       "      <td>427716.0</td>\n",
       "      <td>14.479091</td>\n",
       "      <td>8.597111</td>\n",
       "      <td>1.0</td>\n",
       "      <td>7.00</td>\n",
       "      <td>14.0</td>\n",
       "      <td>22.00</td>\n",
       "      <td>30.0</td>\n",
       "    </tr>\n",
       "    <tr>\n",
       "      <th>Churn</th>\n",
       "      <td>427921.0</td>\n",
       "      <td>0.566920</td>\n",
       "      <td>0.495502</td>\n",
       "      <td>0.0</td>\n",
       "      <td>0.00</td>\n",
       "      <td>1.0</td>\n",
       "      <td>1.00</td>\n",
       "      <td>1.0</td>\n",
       "    </tr>\n",
       "  </tbody>\n",
       "</table>\n",
       "</div>"
      ],
      "text/plain": [
       "                     count           mean            std    min        25%  \\\n",
       "CustomerID        427876.0  225464.545504  129526.916324    2.0  113693.75   \n",
       "Age               427774.0      39.368809      12.445871   18.0      29.00   \n",
       "Tenure            427890.0      31.262317      17.253462    1.0      16.00   \n",
       "Usage Frequency   427785.0      15.809769       8.586941    1.0       9.00   \n",
       "Support Calls     427901.0       3.604479       3.070686    0.0       1.00   \n",
       "Payment Delay     427843.0      12.970510       8.259023    0.0       6.00   \n",
       "Total Spend       427729.0     631.697853     240.762626  100.0     481.00   \n",
       "Last Interaction  427716.0      14.479091       8.597111    1.0       7.00   \n",
       "Churn             427921.0       0.566920       0.495502    0.0       0.00   \n",
       "\n",
       "                       50%        75%       max  \n",
       "CustomerID        226252.5  337792.25  449999.0  \n",
       "Age                   39.0      48.00      65.0  \n",
       "Tenure                32.0      46.00      60.0  \n",
       "Usage Frequency       16.0      23.00      30.0  \n",
       "Support Calls          3.0       6.00      10.0  \n",
       "Payment Delay         12.0      19.00      30.0  \n",
       "Total Spend          661.0     830.00    1000.0  \n",
       "Last Interaction      14.0      22.00      30.0  \n",
       "Churn                  1.0       1.00       1.0  "
      ]
     },
     "execution_count": 11,
     "metadata": {},
     "output_type": "execute_result"
    }
   ],
   "source": [
    "df.describe().T"
   ]
  },
  {
   "cell_type": "markdown",
   "id": "95ad2aef",
   "metadata": {
    "papermill": {
     "duration": 0.013046,
     "end_time": "2024-11-21T21:47:18.924799",
     "exception": false,
     "start_time": "2024-11-21T21:47:18.911753",
     "status": "completed"
    },
    "tags": []
   },
   "source": [
    "Kategorik ve nümerik değişklenlerimizi ayıralım. Bunu yaparken geleneksel bir yöntemle değil daha kısa ve verimli bir yöntem olan list comprehension ile gerçekleştirelim."
   ]
  },
  {
   "cell_type": "code",
   "execution_count": 12,
   "id": "3fccf5ae",
   "metadata": {
    "execution": {
     "iopub.execute_input": "2024-11-21T21:47:18.953248Z",
     "iopub.status.busy": "2024-11-21T21:47:18.952830Z",
     "iopub.status.idle": "2024-11-21T21:47:18.959760Z",
     "shell.execute_reply": "2024-11-21T21:47:18.958732Z"
    },
    "papermill": {
     "duration": 0.023709,
     "end_time": "2024-11-21T21:47:18.961982",
     "exception": false,
     "start_time": "2024-11-21T21:47:18.938273",
     "status": "completed"
    },
    "tags": []
   },
   "outputs": [
    {
     "name": "stdout",
     "output_type": "stream",
     "text": [
      "Kategorik Özellikler: ['Gender', 'Subscription Type', 'Contract Length']\n",
      "Sayısal Özellikler: ['CustomerID', 'Age', 'Tenure', 'Usage Frequency', 'Support Calls', 'Payment Delay', 'Total Spend', 'Last Interaction', 'Churn']\n"
     ]
    }
   ],
   "source": [
    "categorical_features = [col for col in df.columns if (df[col].dtype == \"object\") or (df[col].dtype == \"category\")]\n",
    "numerical_features = [col for col in df.columns if not ((df[col].dtype == \"object\") or (df[col].dtype == \"category\"))]\n",
    "\n",
    "print(\"Kategorik Özellikler:\", categorical_features)\n",
    "print(\"Sayısal Özellikler:\", numerical_features)"
   ]
  },
  {
   "cell_type": "markdown",
   "id": "7ebf4072",
   "metadata": {
    "papermill": {
     "duration": 0.013311,
     "end_time": "2024-11-21T21:47:18.988833",
     "exception": false,
     "start_time": "2024-11-21T21:47:18.975522",
     "status": "completed"
    },
    "tags": []
   },
   "source": [
    " # 3. Eksik Veri Analizi"
   ]
  },
  {
   "cell_type": "markdown",
   "id": "11e02643",
   "metadata": {
    "papermill": {
     "duration": 0.013498,
     "end_time": "2024-11-21T21:47:19.015837",
     "exception": false,
     "start_time": "2024-11-21T21:47:19.002339",
     "status": "completed"
    },
    "tags": []
   },
   "source": [
    "**3.1 Eksik Verilerin Gözlemlenmesi**"
   ]
  },
  {
   "cell_type": "code",
   "execution_count": 13,
   "id": "8aa12305",
   "metadata": {
    "execution": {
     "iopub.execute_input": "2024-11-21T21:47:19.044451Z",
     "iopub.status.busy": "2024-11-21T21:47:19.044071Z",
     "iopub.status.idle": "2024-11-21T21:47:19.117292Z",
     "shell.execute_reply": "2024-11-21T21:47:19.116206Z"
    },
    "papermill": {
     "duration": 0.090079,
     "end_time": "2024-11-21T21:47:19.119448",
     "exception": false,
     "start_time": "2024-11-21T21:47:19.029369",
     "status": "completed"
    },
    "tags": []
   },
   "outputs": [
    {
     "data": {
      "text/plain": [
       "CustomerID           12957\n",
       "Age                  13059\n",
       "Gender               13136\n",
       "Tenure               12943\n",
       "Usage Frequency      13048\n",
       "Support Calls        12932\n",
       "Payment Delay        12990\n",
       "Subscription Type    13151\n",
       "Contract Length      13092\n",
       "Total Spend          13104\n",
       "Last Interaction     13117\n",
       "Churn                12912\n",
       "dtype: int64"
      ]
     },
     "execution_count": 13,
     "metadata": {},
     "output_type": "execute_result"
    }
   ],
   "source": [
    "\n",
    "df.isnull().sum()"
   ]
  },
  {
   "cell_type": "markdown",
   "id": "7735721d",
   "metadata": {
    "papermill": {
     "duration": 0.013946,
     "end_time": "2024-11-21T21:47:19.147425",
     "exception": false,
     "start_time": "2024-11-21T21:47:19.133479",
     "status": "completed"
    },
    "tags": []
   },
   "source": [
    "Veri setimizde toplam kaç adet eksik ve eksik olmayan gözlem sayısı var görelim."
   ]
  },
  {
   "cell_type": "code",
   "execution_count": 14,
   "id": "bf26667b",
   "metadata": {
    "execution": {
     "iopub.execute_input": "2024-11-21T21:47:19.176924Z",
     "iopub.status.busy": "2024-11-21T21:47:19.176466Z",
     "iopub.status.idle": "2024-11-21T21:47:19.313761Z",
     "shell.execute_reply": "2024-11-21T21:47:19.312653Z"
    },
    "papermill": {
     "duration": 0.154647,
     "end_time": "2024-11-21T21:47:19.315991",
     "exception": false,
     "start_time": "2024-11-21T21:47:19.161344",
     "status": "completed"
    },
    "tags": []
   },
   "outputs": [
    {
     "name": "stdout",
     "output_type": "stream",
     "text": [
      "Veri seti içerisinde toplam 5133555 adet eksik olmayan, 156441 eksik gözlem var.\n"
     ]
    }
   ],
   "source": [
    "print(f\"Veri seti içerisinde toplam {df.notnull().sum().sum()} adet eksik olmayan, {df.isnull().sum().sum()} eksik gözlem var.\")"
   ]
  },
  {
   "cell_type": "markdown",
   "id": "50a885b3",
   "metadata": {
    "papermill": {
     "duration": 0.013092,
     "end_time": "2024-11-21T21:47:19.342626",
     "exception": false,
     "start_time": "2024-11-21T21:47:19.329534",
     "status": "completed"
    },
    "tags": []
   },
   "source": [
    "Eksik değer sayısını, toplam kayıt sayısı ve her bir değişken için, o değişkendeki eksik değer sayısının toplam kayıt sayısının % kaçı olduğunu bulalım."
   ]
  },
  {
   "cell_type": "code",
   "execution_count": 15,
   "id": "116cd4af",
   "metadata": {
    "execution": {
     "iopub.execute_input": "2024-11-21T21:47:19.371292Z",
     "iopub.status.busy": "2024-11-21T21:47:19.370918Z",
     "iopub.status.idle": "2024-11-21T21:47:19.448251Z",
     "shell.execute_reply": "2024-11-21T21:47:19.447188Z"
    },
    "papermill": {
     "duration": 0.094239,
     "end_time": "2024-11-21T21:47:19.450414",
     "exception": false,
     "start_time": "2024-11-21T21:47:19.356175",
     "status": "completed"
    },
    "tags": []
   },
   "outputs": [
    {
     "data": {
      "text/html": [
       "<div>\n",
       "<style scoped>\n",
       "    .dataframe tbody tr th:only-of-type {\n",
       "        vertical-align: middle;\n",
       "    }\n",
       "\n",
       "    .dataframe tbody tr th {\n",
       "        vertical-align: top;\n",
       "    }\n",
       "\n",
       "    .dataframe thead th {\n",
       "        text-align: right;\n",
       "    }\n",
       "</style>\n",
       "<table border=\"1\" class=\"dataframe\">\n",
       "  <thead>\n",
       "    <tr style=\"text-align: right;\">\n",
       "      <th></th>\n",
       "      <th>Eksik Değer Sayısı</th>\n",
       "      <th>Eksik Değer Oranı (%)</th>\n",
       "    </tr>\n",
       "  </thead>\n",
       "  <tbody>\n",
       "    <tr>\n",
       "      <th>Subscription Type</th>\n",
       "      <td>13151</td>\n",
       "      <td>2.983216</td>\n",
       "    </tr>\n",
       "    <tr>\n",
       "      <th>Gender</th>\n",
       "      <td>13136</td>\n",
       "      <td>2.979813</td>\n",
       "    </tr>\n",
       "    <tr>\n",
       "      <th>Last Interaction</th>\n",
       "      <td>13117</td>\n",
       "      <td>2.975503</td>\n",
       "    </tr>\n",
       "    <tr>\n",
       "      <th>Total Spend</th>\n",
       "      <td>13104</td>\n",
       "      <td>2.972554</td>\n",
       "    </tr>\n",
       "    <tr>\n",
       "      <th>Contract Length</th>\n",
       "      <td>13092</td>\n",
       "      <td>2.969832</td>\n",
       "    </tr>\n",
       "    <tr>\n",
       "      <th>Age</th>\n",
       "      <td>13059</td>\n",
       "      <td>2.962346</td>\n",
       "    </tr>\n",
       "    <tr>\n",
       "      <th>Usage Frequency</th>\n",
       "      <td>13048</td>\n",
       "      <td>2.959851</td>\n",
       "    </tr>\n",
       "    <tr>\n",
       "      <th>Payment Delay</th>\n",
       "      <td>12990</td>\n",
       "      <td>2.946694</td>\n",
       "    </tr>\n",
       "    <tr>\n",
       "      <th>CustomerID</th>\n",
       "      <td>12957</td>\n",
       "      <td>2.939208</td>\n",
       "    </tr>\n",
       "    <tr>\n",
       "      <th>Tenure</th>\n",
       "      <td>12943</td>\n",
       "      <td>2.936032</td>\n",
       "    </tr>\n",
       "    <tr>\n",
       "      <th>Support Calls</th>\n",
       "      <td>12932</td>\n",
       "      <td>2.933537</td>\n",
       "    </tr>\n",
       "    <tr>\n",
       "      <th>Churn</th>\n",
       "      <td>12912</td>\n",
       "      <td>2.929000</td>\n",
       "    </tr>\n",
       "  </tbody>\n",
       "</table>\n",
       "</div>"
      ],
      "text/plain": [
       "                   Eksik Değer Sayısı  Eksik Değer Oranı (%)\n",
       "Subscription Type               13151               2.983216\n",
       "Gender                          13136               2.979813\n",
       "Last Interaction                13117               2.975503\n",
       "Total Spend                     13104               2.972554\n",
       "Contract Length                 13092               2.969832\n",
       "Age                             13059               2.962346\n",
       "Usage Frequency                 13048               2.959851\n",
       "Payment Delay                   12990               2.946694\n",
       "CustomerID                      12957               2.939208\n",
       "Tenure                          12943               2.936032\n",
       "Support Calls                   12932               2.933537\n",
       "Churn                           12912               2.929000"
      ]
     },
     "execution_count": 15,
     "metadata": {},
     "output_type": "execute_result"
    }
   ],
   "source": [
    "# Eksik değerlerin sayısını hesaplayalım\n",
    "\n",
    "missing_values = df.isnull().sum()\n",
    "\n",
    "# Toplam kayıt sayısı\n",
    "\n",
    "total_records = len(df)\n",
    "\n",
    "# Eksik değerlerin yüzdesini hesaplayalım\n",
    "\n",
    "missing_percentage = (missing_values / total_records) * 100\n",
    "\n",
    "# Sonuçları birleştirelim ve eksik değer yüzdesi olan sütunları görelim\n",
    "\n",
    "missing_data_percentage = pd.DataFrame({'Eksik Değer Sayısı': missing_values, 'Eksik Değer Oranı (%)': missing_percentage})\n",
    "\n",
    "# Yalnızca eksik değer olan sütunları görelim\n",
    "\n",
    "missing_data_percentage = missing_data_percentage[missing_data_percentage['Eksik Değer Sayısı'] > 0].sort_values(by='Eksik Değer Oranı (%)', ascending=False)\n",
    "\n",
    "# Eksik değerlerin yüzdesini görelim\n",
    "\n",
    "missing_data_percentage"
   ]
  },
  {
   "cell_type": "markdown",
   "id": "a6d0b026",
   "metadata": {
    "papermill": {
     "duration": 0.013622,
     "end_time": "2024-11-21T21:47:19.478045",
     "exception": false,
     "start_time": "2024-11-21T21:47:19.464423",
     "status": "completed"
    },
    "tags": []
   },
   "source": [
    "Veri seti içerisinde en az bir eksik gözlemi bulunan ve hiç eksik gözlemi olmayan kayıtları getirelim."
   ]
  },
  {
   "cell_type": "code",
   "execution_count": 16,
   "id": "ffc62bbd",
   "metadata": {
    "execution": {
     "iopub.execute_input": "2024-11-21T21:47:19.507379Z",
     "iopub.status.busy": "2024-11-21T21:47:19.506994Z",
     "iopub.status.idle": "2024-11-21T21:47:19.598812Z",
     "shell.execute_reply": "2024-11-21T21:47:19.597733Z"
    },
    "papermill": {
     "duration": 0.108918,
     "end_time": "2024-11-21T21:47:19.600911",
     "exception": false,
     "start_time": "2024-11-21T21:47:19.491993",
     "status": "completed"
    },
    "tags": []
   },
   "outputs": [
    {
     "data": {
      "text/html": [
       "<div>\n",
       "<style scoped>\n",
       "    .dataframe tbody tr th:only-of-type {\n",
       "        vertical-align: middle;\n",
       "    }\n",
       "\n",
       "    .dataframe tbody tr th {\n",
       "        vertical-align: top;\n",
       "    }\n",
       "\n",
       "    .dataframe thead th {\n",
       "        text-align: right;\n",
       "    }\n",
       "</style>\n",
       "<table border=\"1\" class=\"dataframe\">\n",
       "  <thead>\n",
       "    <tr style=\"text-align: right;\">\n",
       "      <th></th>\n",
       "      <th>CustomerID</th>\n",
       "      <th>Age</th>\n",
       "      <th>Gender</th>\n",
       "      <th>Tenure</th>\n",
       "      <th>Usage Frequency</th>\n",
       "      <th>Support Calls</th>\n",
       "      <th>Payment Delay</th>\n",
       "      <th>Subscription Type</th>\n",
       "      <th>Contract Length</th>\n",
       "      <th>Total Spend</th>\n",
       "      <th>Last Interaction</th>\n",
       "      <th>Churn</th>\n",
       "    </tr>\n",
       "  </thead>\n",
       "  <tbody>\n",
       "    <tr>\n",
       "      <th>4</th>\n",
       "      <td>6.0</td>\n",
       "      <td>23.0</td>\n",
       "      <td>Male</td>\n",
       "      <td>32.0</td>\n",
       "      <td>NaN</td>\n",
       "      <td>5.0</td>\n",
       "      <td>8.0</td>\n",
       "      <td>Basic</td>\n",
       "      <td>Monthly</td>\n",
       "      <td>617.00</td>\n",
       "      <td>20.0</td>\n",
       "      <td>1.0</td>\n",
       "    </tr>\n",
       "    <tr>\n",
       "      <th>5</th>\n",
       "      <td>8.0</td>\n",
       "      <td>51.0</td>\n",
       "      <td>Male</td>\n",
       "      <td>33.0</td>\n",
       "      <td>25.0</td>\n",
       "      <td>9.0</td>\n",
       "      <td>26.0</td>\n",
       "      <td>Premium</td>\n",
       "      <td>NaN</td>\n",
       "      <td>129.00</td>\n",
       "      <td>8.0</td>\n",
       "      <td>1.0</td>\n",
       "    </tr>\n",
       "    <tr>\n",
       "      <th>7</th>\n",
       "      <td>10.0</td>\n",
       "      <td>55.0</td>\n",
       "      <td>Female</td>\n",
       "      <td>37.0</td>\n",
       "      <td>8.0</td>\n",
       "      <td>NaN</td>\n",
       "      <td>15.0</td>\n",
       "      <td>Premium</td>\n",
       "      <td>Annual</td>\n",
       "      <td>445.00</td>\n",
       "      <td>30.0</td>\n",
       "      <td>1.0</td>\n",
       "    </tr>\n",
       "    <tr>\n",
       "      <th>16</th>\n",
       "      <td>19.0</td>\n",
       "      <td>19.0</td>\n",
       "      <td>Female</td>\n",
       "      <td>38.0</td>\n",
       "      <td>23.0</td>\n",
       "      <td>7.0</td>\n",
       "      <td>11.0</td>\n",
       "      <td>Basic</td>\n",
       "      <td>Quarterly</td>\n",
       "      <td>978.00</td>\n",
       "      <td>NaN</td>\n",
       "      <td>1.0</td>\n",
       "    </tr>\n",
       "    <tr>\n",
       "      <th>22</th>\n",
       "      <td>25.0</td>\n",
       "      <td>27.0</td>\n",
       "      <td>Male</td>\n",
       "      <td>NaN</td>\n",
       "      <td>28.0</td>\n",
       "      <td>8.0</td>\n",
       "      <td>18.0</td>\n",
       "      <td>Standard</td>\n",
       "      <td>Annual</td>\n",
       "      <td>436.00</td>\n",
       "      <td>30.0</td>\n",
       "      <td>1.0</td>\n",
       "    </tr>\n",
       "    <tr>\n",
       "      <th>...</th>\n",
       "      <td>...</td>\n",
       "      <td>...</td>\n",
       "      <td>...</td>\n",
       "      <td>...</td>\n",
       "      <td>...</td>\n",
       "      <td>...</td>\n",
       "      <td>...</td>\n",
       "      <td>...</td>\n",
       "      <td>...</td>\n",
       "      <td>...</td>\n",
       "      <td>...</td>\n",
       "      <td>...</td>\n",
       "    </tr>\n",
       "    <tr>\n",
       "      <th>440815</th>\n",
       "      <td>449242.0</td>\n",
       "      <td>NaN</td>\n",
       "      <td>Female</td>\n",
       "      <td>45.0</td>\n",
       "      <td>3.0</td>\n",
       "      <td>3.0</td>\n",
       "      <td>13.0</td>\n",
       "      <td>Basic</td>\n",
       "      <td>Annual</td>\n",
       "      <td>776.12</td>\n",
       "      <td>12.0</td>\n",
       "      <td>0.0</td>\n",
       "    </tr>\n",
       "    <tr>\n",
       "      <th>440818</th>\n",
       "      <td>449245.0</td>\n",
       "      <td>50.0</td>\n",
       "      <td>Female</td>\n",
       "      <td>36.0</td>\n",
       "      <td>28.0</td>\n",
       "      <td>3.0</td>\n",
       "      <td>13.0</td>\n",
       "      <td>NaN</td>\n",
       "      <td>Quarterly</td>\n",
       "      <td>990.21</td>\n",
       "      <td>4.0</td>\n",
       "      <td>0.0</td>\n",
       "    </tr>\n",
       "    <tr>\n",
       "      <th>440820</th>\n",
       "      <td>449987.0</td>\n",
       "      <td>38.0</td>\n",
       "      <td>NaN</td>\n",
       "      <td>32.0</td>\n",
       "      <td>26.0</td>\n",
       "      <td>2.0</td>\n",
       "      <td>6.0</td>\n",
       "      <td>Basic</td>\n",
       "      <td>Quarterly</td>\n",
       "      <td>550.62</td>\n",
       "      <td>15.0</td>\n",
       "      <td>0.0</td>\n",
       "    </tr>\n",
       "    <tr>\n",
       "      <th>440821</th>\n",
       "      <td>449988.0</td>\n",
       "      <td>45.0</td>\n",
       "      <td>NaN</td>\n",
       "      <td>3.0</td>\n",
       "      <td>9.0</td>\n",
       "      <td>1.0</td>\n",
       "      <td>7.0</td>\n",
       "      <td>Premium</td>\n",
       "      <td>Annual</td>\n",
       "      <td>796.72</td>\n",
       "      <td>26.0</td>\n",
       "      <td>0.0</td>\n",
       "    </tr>\n",
       "    <tr>\n",
       "      <th>440827</th>\n",
       "      <td>449994.0</td>\n",
       "      <td>45.0</td>\n",
       "      <td>Male</td>\n",
       "      <td>6.0</td>\n",
       "      <td>25.0</td>\n",
       "      <td>2.0</td>\n",
       "      <td>15.0</td>\n",
       "      <td>Basic</td>\n",
       "      <td>Annual</td>\n",
       "      <td>837.00</td>\n",
       "      <td>2.0</td>\n",
       "      <td>NaN</td>\n",
       "    </tr>\n",
       "  </tbody>\n",
       "</table>\n",
       "<p>133254 rows × 12 columns</p>\n",
       "</div>"
      ],
      "text/plain": [
       "        CustomerID   Age  Gender  Tenure  Usage Frequency  Support Calls  \\\n",
       "4              6.0  23.0    Male    32.0              NaN            5.0   \n",
       "5              8.0  51.0    Male    33.0             25.0            9.0   \n",
       "7             10.0  55.0  Female    37.0              8.0            NaN   \n",
       "16            19.0  19.0  Female    38.0             23.0            7.0   \n",
       "22            25.0  27.0    Male     NaN             28.0            8.0   \n",
       "...            ...   ...     ...     ...              ...            ...   \n",
       "440815    449242.0   NaN  Female    45.0              3.0            3.0   \n",
       "440818    449245.0  50.0  Female    36.0             28.0            3.0   \n",
       "440820    449987.0  38.0     NaN    32.0             26.0            2.0   \n",
       "440821    449988.0  45.0     NaN     3.0              9.0            1.0   \n",
       "440827    449994.0  45.0    Male     6.0             25.0            2.0   \n",
       "\n",
       "        Payment Delay Subscription Type Contract Length  Total Spend  \\\n",
       "4                 8.0             Basic         Monthly       617.00   \n",
       "5                26.0           Premium             NaN       129.00   \n",
       "7                15.0           Premium          Annual       445.00   \n",
       "16               11.0             Basic       Quarterly       978.00   \n",
       "22               18.0          Standard          Annual       436.00   \n",
       "...               ...               ...             ...          ...   \n",
       "440815           13.0             Basic          Annual       776.12   \n",
       "440818           13.0               NaN       Quarterly       990.21   \n",
       "440820            6.0             Basic       Quarterly       550.62   \n",
       "440821            7.0           Premium          Annual       796.72   \n",
       "440827           15.0             Basic          Annual       837.00   \n",
       "\n",
       "        Last Interaction  Churn  \n",
       "4                   20.0    1.0  \n",
       "5                    8.0    1.0  \n",
       "7                   30.0    1.0  \n",
       "16                   NaN    1.0  \n",
       "22                  30.0    1.0  \n",
       "...                  ...    ...  \n",
       "440815              12.0    0.0  \n",
       "440818               4.0    0.0  \n",
       "440820              15.0    0.0  \n",
       "440821              26.0    0.0  \n",
       "440827               2.0    NaN  \n",
       "\n",
       "[133254 rows x 12 columns]"
      ]
     },
     "execution_count": 16,
     "metadata": {},
     "output_type": "execute_result"
    }
   ],
   "source": [
    "df[df.isnull().any(axis = 1)]"
   ]
  },
  {
   "cell_type": "code",
   "execution_count": 17,
   "id": "21c7a7e2",
   "metadata": {
    "execution": {
     "iopub.execute_input": "2024-11-21T21:47:19.633155Z",
     "iopub.status.busy": "2024-11-21T21:47:19.632747Z",
     "iopub.status.idle": "2024-11-21T21:47:19.747434Z",
     "shell.execute_reply": "2024-11-21T21:47:19.746226Z"
    },
    "papermill": {
     "duration": 0.132669,
     "end_time": "2024-11-21T21:47:19.749663",
     "exception": false,
     "start_time": "2024-11-21T21:47:19.616994",
     "status": "completed"
    },
    "tags": []
   },
   "outputs": [
    {
     "data": {
      "text/html": [
       "<div>\n",
       "<style scoped>\n",
       "    .dataframe tbody tr th:only-of-type {\n",
       "        vertical-align: middle;\n",
       "    }\n",
       "\n",
       "    .dataframe tbody tr th {\n",
       "        vertical-align: top;\n",
       "    }\n",
       "\n",
       "    .dataframe thead th {\n",
       "        text-align: right;\n",
       "    }\n",
       "</style>\n",
       "<table border=\"1\" class=\"dataframe\">\n",
       "  <thead>\n",
       "    <tr style=\"text-align: right;\">\n",
       "      <th></th>\n",
       "      <th>CustomerID</th>\n",
       "      <th>Age</th>\n",
       "      <th>Gender</th>\n",
       "      <th>Tenure</th>\n",
       "      <th>Usage Frequency</th>\n",
       "      <th>Support Calls</th>\n",
       "      <th>Payment Delay</th>\n",
       "      <th>Subscription Type</th>\n",
       "      <th>Contract Length</th>\n",
       "      <th>Total Spend</th>\n",
       "      <th>Last Interaction</th>\n",
       "      <th>Churn</th>\n",
       "    </tr>\n",
       "  </thead>\n",
       "  <tbody>\n",
       "    <tr>\n",
       "      <th>0</th>\n",
       "      <td>2.0</td>\n",
       "      <td>30.0</td>\n",
       "      <td>Female</td>\n",
       "      <td>39.0</td>\n",
       "      <td>14.0</td>\n",
       "      <td>5.0</td>\n",
       "      <td>18.0</td>\n",
       "      <td>Standard</td>\n",
       "      <td>Annual</td>\n",
       "      <td>932.00</td>\n",
       "      <td>17.0</td>\n",
       "      <td>1.0</td>\n",
       "    </tr>\n",
       "    <tr>\n",
       "      <th>1</th>\n",
       "      <td>3.0</td>\n",
       "      <td>65.0</td>\n",
       "      <td>Female</td>\n",
       "      <td>49.0</td>\n",
       "      <td>1.0</td>\n",
       "      <td>10.0</td>\n",
       "      <td>8.0</td>\n",
       "      <td>Basic</td>\n",
       "      <td>Monthly</td>\n",
       "      <td>557.00</td>\n",
       "      <td>6.0</td>\n",
       "      <td>1.0</td>\n",
       "    </tr>\n",
       "    <tr>\n",
       "      <th>2</th>\n",
       "      <td>4.0</td>\n",
       "      <td>55.0</td>\n",
       "      <td>Female</td>\n",
       "      <td>14.0</td>\n",
       "      <td>4.0</td>\n",
       "      <td>6.0</td>\n",
       "      <td>18.0</td>\n",
       "      <td>Basic</td>\n",
       "      <td>Quarterly</td>\n",
       "      <td>185.00</td>\n",
       "      <td>3.0</td>\n",
       "      <td>1.0</td>\n",
       "    </tr>\n",
       "    <tr>\n",
       "      <th>3</th>\n",
       "      <td>5.0</td>\n",
       "      <td>58.0</td>\n",
       "      <td>Male</td>\n",
       "      <td>38.0</td>\n",
       "      <td>21.0</td>\n",
       "      <td>7.0</td>\n",
       "      <td>7.0</td>\n",
       "      <td>Standard</td>\n",
       "      <td>Monthly</td>\n",
       "      <td>396.00</td>\n",
       "      <td>29.0</td>\n",
       "      <td>1.0</td>\n",
       "    </tr>\n",
       "    <tr>\n",
       "      <th>4</th>\n",
       "      <td>6.0</td>\n",
       "      <td>23.0</td>\n",
       "      <td>Male</td>\n",
       "      <td>32.0</td>\n",
       "      <td>NaN</td>\n",
       "      <td>5.0</td>\n",
       "      <td>8.0</td>\n",
       "      <td>Basic</td>\n",
       "      <td>Monthly</td>\n",
       "      <td>617.00</td>\n",
       "      <td>20.0</td>\n",
       "      <td>1.0</td>\n",
       "    </tr>\n",
       "    <tr>\n",
       "      <th>...</th>\n",
       "      <td>...</td>\n",
       "      <td>...</td>\n",
       "      <td>...</td>\n",
       "      <td>...</td>\n",
       "      <td>...</td>\n",
       "      <td>...</td>\n",
       "      <td>...</td>\n",
       "      <td>...</td>\n",
       "      <td>...</td>\n",
       "      <td>...</td>\n",
       "      <td>...</td>\n",
       "      <td>...</td>\n",
       "    </tr>\n",
       "    <tr>\n",
       "      <th>440828</th>\n",
       "      <td>449995.0</td>\n",
       "      <td>42.0</td>\n",
       "      <td>Male</td>\n",
       "      <td>54.0</td>\n",
       "      <td>15.0</td>\n",
       "      <td>1.0</td>\n",
       "      <td>3.0</td>\n",
       "      <td>Premium</td>\n",
       "      <td>Annual</td>\n",
       "      <td>716.38</td>\n",
       "      <td>8.0</td>\n",
       "      <td>0.0</td>\n",
       "    </tr>\n",
       "    <tr>\n",
       "      <th>440829</th>\n",
       "      <td>449996.0</td>\n",
       "      <td>25.0</td>\n",
       "      <td>Female</td>\n",
       "      <td>8.0</td>\n",
       "      <td>13.0</td>\n",
       "      <td>1.0</td>\n",
       "      <td>20.0</td>\n",
       "      <td>Premium</td>\n",
       "      <td>Annual</td>\n",
       "      <td>745.38</td>\n",
       "      <td>2.0</td>\n",
       "      <td>0.0</td>\n",
       "    </tr>\n",
       "    <tr>\n",
       "      <th>440830</th>\n",
       "      <td>449997.0</td>\n",
       "      <td>26.0</td>\n",
       "      <td>Male</td>\n",
       "      <td>35.0</td>\n",
       "      <td>27.0</td>\n",
       "      <td>1.0</td>\n",
       "      <td>5.0</td>\n",
       "      <td>Standard</td>\n",
       "      <td>Quarterly</td>\n",
       "      <td>977.31</td>\n",
       "      <td>9.0</td>\n",
       "      <td>0.0</td>\n",
       "    </tr>\n",
       "    <tr>\n",
       "      <th>440831</th>\n",
       "      <td>449998.0</td>\n",
       "      <td>28.0</td>\n",
       "      <td>Male</td>\n",
       "      <td>55.0</td>\n",
       "      <td>14.0</td>\n",
       "      <td>2.0</td>\n",
       "      <td>0.0</td>\n",
       "      <td>Standard</td>\n",
       "      <td>Quarterly</td>\n",
       "      <td>602.55</td>\n",
       "      <td>2.0</td>\n",
       "      <td>0.0</td>\n",
       "    </tr>\n",
       "    <tr>\n",
       "      <th>440832</th>\n",
       "      <td>449999.0</td>\n",
       "      <td>31.0</td>\n",
       "      <td>Male</td>\n",
       "      <td>48.0</td>\n",
       "      <td>20.0</td>\n",
       "      <td>1.0</td>\n",
       "      <td>14.0</td>\n",
       "      <td>Premium</td>\n",
       "      <td>Quarterly</td>\n",
       "      <td>567.77</td>\n",
       "      <td>21.0</td>\n",
       "      <td>0.0</td>\n",
       "    </tr>\n",
       "  </tbody>\n",
       "</table>\n",
       "<p>440832 rows × 12 columns</p>\n",
       "</div>"
      ],
      "text/plain": [
       "        CustomerID   Age  Gender  Tenure  Usage Frequency  Support Calls  \\\n",
       "0              2.0  30.0  Female    39.0             14.0            5.0   \n",
       "1              3.0  65.0  Female    49.0              1.0           10.0   \n",
       "2              4.0  55.0  Female    14.0              4.0            6.0   \n",
       "3              5.0  58.0    Male    38.0             21.0            7.0   \n",
       "4              6.0  23.0    Male    32.0              NaN            5.0   \n",
       "...            ...   ...     ...     ...              ...            ...   \n",
       "440828    449995.0  42.0    Male    54.0             15.0            1.0   \n",
       "440829    449996.0  25.0  Female     8.0             13.0            1.0   \n",
       "440830    449997.0  26.0    Male    35.0             27.0            1.0   \n",
       "440831    449998.0  28.0    Male    55.0             14.0            2.0   \n",
       "440832    449999.0  31.0    Male    48.0             20.0            1.0   \n",
       "\n",
       "        Payment Delay Subscription Type Contract Length  Total Spend  \\\n",
       "0                18.0          Standard          Annual       932.00   \n",
       "1                 8.0             Basic         Monthly       557.00   \n",
       "2                18.0             Basic       Quarterly       185.00   \n",
       "3                 7.0          Standard         Monthly       396.00   \n",
       "4                 8.0             Basic         Monthly       617.00   \n",
       "...               ...               ...             ...          ...   \n",
       "440828            3.0           Premium          Annual       716.38   \n",
       "440829           20.0           Premium          Annual       745.38   \n",
       "440830            5.0          Standard       Quarterly       977.31   \n",
       "440831            0.0          Standard       Quarterly       602.55   \n",
       "440832           14.0           Premium       Quarterly       567.77   \n",
       "\n",
       "        Last Interaction  Churn  \n",
       "0                   17.0    1.0  \n",
       "1                    6.0    1.0  \n",
       "2                    3.0    1.0  \n",
       "3                   29.0    1.0  \n",
       "4                   20.0    1.0  \n",
       "...                  ...    ...  \n",
       "440828               8.0    0.0  \n",
       "440829               2.0    0.0  \n",
       "440830               9.0    0.0  \n",
       "440831               2.0    0.0  \n",
       "440832              21.0    0.0  \n",
       "\n",
       "[440832 rows x 12 columns]"
      ]
     },
     "execution_count": 17,
     "metadata": {},
     "output_type": "execute_result"
    }
   ],
   "source": [
    "df[df.notnull().any(axis = 1)]"
   ]
  },
  {
   "cell_type": "markdown",
   "id": "1e590b13",
   "metadata": {
    "papermill": {
     "duration": 0.014577,
     "end_time": "2024-11-21T21:47:19.779123",
     "exception": false,
     "start_time": "2024-11-21T21:47:19.764546",
     "status": "completed"
    },
    "tags": []
   },
   "source": [
    "Eksik verilerimizi görselleştirirken kullanacağımız missingno kütüphanesini kurarak devam edelim. Bu sayede eksik verilerimizin dağılımını görelim. Daha sonrasında matrix grafiği ve ısı haritasını oluşturarak korelasyon seviyelerini inceleyelim."
   ]
  },
  {
   "cell_type": "code",
   "execution_count": 18,
   "id": "a111db1b",
   "metadata": {
    "execution": {
     "iopub.execute_input": "2024-11-21T21:47:19.810295Z",
     "iopub.status.busy": "2024-11-21T21:47:19.809875Z",
     "iopub.status.idle": "2024-11-21T21:47:21.150088Z",
     "shell.execute_reply": "2024-11-21T21:47:21.148937Z"
    },
    "papermill": {
     "duration": 1.358858,
     "end_time": "2024-11-21T21:47:21.152606",
     "exception": false,
     "start_time": "2024-11-21T21:47:19.793748",
     "status": "completed"
    },
    "tags": []
   },
   "outputs": [
    {
     "data": {
      "image/png": "[encoded data removed]",
      "text/plain": [
       "<Figure size 800x400 with 3 Axes>"
      ]
     },
     "metadata": {},
     "output_type": "display_data"
    }
   ],
   "source": [
    "import missingno as msno\n",
    "\n",
    "msno.bar(df = df,\n",
    "         figsize = (8, 4),\n",
    "         color=('skyblue'),\n",
    "         fontsize=10)\n",
    "plt.title(\"Eksik Verilerin Dağılımı\", fontsize=12) \n",
    "plt.show()"
   ]
  },
  {
   "cell_type": "code",
   "execution_count": 19,
   "id": "eb17f52a",
   "metadata": {
    "execution": {
     "iopub.execute_input": "2024-11-21T21:47:21.186472Z",
     "iopub.status.busy": "2024-11-21T21:47:21.185750Z",
     "iopub.status.idle": "2024-11-21T21:47:22.962212Z",
     "shell.execute_reply": "2024-11-21T21:47:22.961123Z"
    },
    "papermill": {
     "duration": 1.796152,
     "end_time": "2024-11-21T21:47:22.964933",
     "exception": false,
     "start_time": "2024-11-21T21:47:21.168781",
     "status": "completed"
    },
    "tags": []
   },
   "outputs": [
    {
     "data": {
      "text/plain": [
       "<Figure size 1200x800 with 0 Axes>"
      ]
     },
     "metadata": {},
     "output_type": "display_data"
    },
    {
     "data": {
      "image/png": "[encoded data removed]",
      "text/plain": [
       "<Figure size 2500x1000 with 2 Axes>"
      ]
     },
     "metadata": {},
     "output_type": "display_data"
    }
   ],
   "source": [
    "plt.figure(figsize=(12, 8))\n",
    "msno.matrix(df,color=(0.7, 0.7, 0.7))\n",
    "plt.title(\"Eksik Verilerin Matrix Görselleştirmesi\", fontsize=24) # Grafiğimize bir başlık ekleyelim\n",
    "plt.show()"
   ]
  },
  {
   "cell_type": "code",
   "execution_count": 20,
   "id": "bfcca849",
   "metadata": {
    "execution": {
     "iopub.execute_input": "2024-11-21T21:47:23.002918Z",
     "iopub.status.busy": "2024-11-21T21:47:23.002456Z",
     "iopub.status.idle": "2024-11-21T21:47:23.805597Z",
     "shell.execute_reply": "2024-11-21T21:47:23.804451Z"
    },
    "papermill": {
     "duration": 0.82483,
     "end_time": "2024-11-21T21:47:23.808027",
     "exception": false,
     "start_time": "2024-11-21T21:47:22.983197",
     "status": "completed"
    },
    "tags": []
   },
   "outputs": [
    {
     "data": {
      "image/png": "[encoded data removed]",
      "text/plain": [
       "<Figure size 1000x600 with 2 Axes>"
      ]
     },
     "metadata": {},
     "output_type": "display_data"
    }
   ],
   "source": [
    "msno.heatmap(df=df, figsize=(10, 6), fontsize=10, cmap='Blues')\n",
    "plt.title(\"Eksik Veriler Arasındaki Korelasyon Isı Haritası\", fontsize=12)\n",
    "plt.show()"
   ]
  },
  {
   "cell_type": "markdown",
   "id": "0f33573d",
   "metadata": {
    "papermill": {
     "duration": 0.020151,
     "end_time": "2024-11-21T21:47:23.848212",
     "exception": false,
     "start_time": "2024-11-21T21:47:23.828061",
     "status": "completed"
    },
    "tags": []
   },
   "source": [
    "**3.2 Eksik Verilerin Doldurulması**"
   ]
  },
  {
   "cell_type": "code",
   "execution_count": 21,
   "id": "378d737c",
   "metadata": {
    "execution": {
     "iopub.execute_input": "2024-11-21T21:47:23.887246Z",
     "iopub.status.busy": "2024-11-21T21:47:23.886822Z",
     "iopub.status.idle": "2024-11-21T21:47:23.916011Z",
     "shell.execute_reply": "2024-11-21T21:47:23.915008Z"
    },
    "papermill": {
     "duration": 0.051064,
     "end_time": "2024-11-21T21:47:23.918046",
     "exception": false,
     "start_time": "2024-11-21T21:47:23.866982",
     "status": "completed"
    },
    "tags": []
   },
   "outputs": [
    {
     "data": {
      "text/html": [
       "<div>\n",
       "<style scoped>\n",
       "    .dataframe tbody tr th:only-of-type {\n",
       "        vertical-align: middle;\n",
       "    }\n",
       "\n",
       "    .dataframe tbody tr th {\n",
       "        vertical-align: top;\n",
       "    }\n",
       "\n",
       "    .dataframe thead th {\n",
       "        text-align: right;\n",
       "    }\n",
       "</style>\n",
       "<table border=\"1\" class=\"dataframe\">\n",
       "  <thead>\n",
       "    <tr style=\"text-align: right;\">\n",
       "      <th></th>\n",
       "      <th>CustomerID</th>\n",
       "      <th>Age</th>\n",
       "      <th>Gender</th>\n",
       "      <th>Tenure</th>\n",
       "      <th>Usage Frequency</th>\n",
       "      <th>Support Calls</th>\n",
       "      <th>Payment Delay</th>\n",
       "      <th>Subscription Type</th>\n",
       "      <th>Contract Length</th>\n",
       "      <th>Total Spend</th>\n",
       "      <th>Last Interaction</th>\n",
       "      <th>Churn</th>\n",
       "    </tr>\n",
       "  </thead>\n",
       "  <tbody>\n",
       "    <tr>\n",
       "      <th>0</th>\n",
       "      <td>2.0</td>\n",
       "      <td>30.0</td>\n",
       "      <td>Female</td>\n",
       "      <td>39.0</td>\n",
       "      <td>14.0</td>\n",
       "      <td>5.0</td>\n",
       "      <td>18.0</td>\n",
       "      <td>Standard</td>\n",
       "      <td>Annual</td>\n",
       "      <td>932.0</td>\n",
       "      <td>17.0</td>\n",
       "      <td>1.0</td>\n",
       "    </tr>\n",
       "    <tr>\n",
       "      <th>1</th>\n",
       "      <td>3.0</td>\n",
       "      <td>65.0</td>\n",
       "      <td>Female</td>\n",
       "      <td>49.0</td>\n",
       "      <td>1.0</td>\n",
       "      <td>10.0</td>\n",
       "      <td>8.0</td>\n",
       "      <td>Basic</td>\n",
       "      <td>Monthly</td>\n",
       "      <td>557.0</td>\n",
       "      <td>6.0</td>\n",
       "      <td>1.0</td>\n",
       "    </tr>\n",
       "    <tr>\n",
       "      <th>2</th>\n",
       "      <td>4.0</td>\n",
       "      <td>55.0</td>\n",
       "      <td>Female</td>\n",
       "      <td>14.0</td>\n",
       "      <td>4.0</td>\n",
       "      <td>6.0</td>\n",
       "      <td>18.0</td>\n",
       "      <td>Basic</td>\n",
       "      <td>Quarterly</td>\n",
       "      <td>185.0</td>\n",
       "      <td>3.0</td>\n",
       "      <td>1.0</td>\n",
       "    </tr>\n",
       "    <tr>\n",
       "      <th>3</th>\n",
       "      <td>5.0</td>\n",
       "      <td>58.0</td>\n",
       "      <td>Male</td>\n",
       "      <td>38.0</td>\n",
       "      <td>21.0</td>\n",
       "      <td>7.0</td>\n",
       "      <td>7.0</td>\n",
       "      <td>Standard</td>\n",
       "      <td>Monthly</td>\n",
       "      <td>396.0</td>\n",
       "      <td>29.0</td>\n",
       "      <td>1.0</td>\n",
       "    </tr>\n",
       "    <tr>\n",
       "      <th>4</th>\n",
       "      <td>6.0</td>\n",
       "      <td>23.0</td>\n",
       "      <td>Male</td>\n",
       "      <td>32.0</td>\n",
       "      <td>NaN</td>\n",
       "      <td>5.0</td>\n",
       "      <td>8.0</td>\n",
       "      <td>Basic</td>\n",
       "      <td>Monthly</td>\n",
       "      <td>617.0</td>\n",
       "      <td>20.0</td>\n",
       "      <td>1.0</td>\n",
       "    </tr>\n",
       "  </tbody>\n",
       "</table>\n",
       "</div>"
      ],
      "text/plain": [
       "   CustomerID   Age  Gender  Tenure  Usage Frequency  Support Calls  \\\n",
       "0         2.0  30.0  Female    39.0             14.0            5.0   \n",
       "1         3.0  65.0  Female    49.0              1.0           10.0   \n",
       "2         4.0  55.0  Female    14.0              4.0            6.0   \n",
       "3         5.0  58.0    Male    38.0             21.0            7.0   \n",
       "4         6.0  23.0    Male    32.0              NaN            5.0   \n",
       "\n",
       "   Payment Delay Subscription Type Contract Length  Total Spend  \\\n",
       "0           18.0          Standard          Annual        932.0   \n",
       "1            8.0             Basic         Monthly        557.0   \n",
       "2           18.0             Basic       Quarterly        185.0   \n",
       "3            7.0          Standard         Monthly        396.0   \n",
       "4            8.0             Basic         Monthly        617.0   \n",
       "\n",
       "   Last Interaction  Churn  \n",
       "0              17.0    1.0  \n",
       "1               6.0    1.0  \n",
       "2               3.0    1.0  \n",
       "3              29.0    1.0  \n",
       "4              20.0    1.0  "
      ]
     },
     "execution_count": 21,
     "metadata": {},
     "output_type": "execute_result"
    }
   ],
   "source": [
    "# Doldurma işlemlerini gerçekleştirmek için veri setinin bir kopyasını oluşturalım\n",
    "\n",
    "df_fillna = df.copy()\n",
    "\n",
    "df_fillna.head(5)"
   ]
  },
  {
   "cell_type": "markdown",
   "id": "dd62bb7a",
   "metadata": {
    "papermill": {
     "duration": 0.018197,
     "end_time": "2024-11-21T21:47:23.955169",
     "exception": false,
     "start_time": "2024-11-21T21:47:23.936972",
     "status": "completed"
    },
    "tags": []
   },
   "source": [
    "**3.2.1 Sayısal Değişkenlerin Doldurulması**"
   ]
  },
  {
   "cell_type": "markdown",
   "id": "ece3718c",
   "metadata": {
    "papermill": {
     "duration": 0.018313,
     "end_time": "2024-11-21T21:47:23.991947",
     "exception": false,
     "start_time": "2024-11-21T21:47:23.973634",
     "status": "completed"
    },
    "tags": []
   },
   "source": [
    "İşlem yapacağımız sütun sayısal değerler içerdiği için ortalama ile doldurma yöntemiyle, verinin genel dağılımını bozmadan eksik alanları dolduralım."
   ]
  },
  {
   "cell_type": "code",
   "execution_count": 22,
   "id": "eae41c7b",
   "metadata": {
    "execution": {
     "iopub.execute_input": "2024-11-21T21:47:24.031254Z",
     "iopub.status.busy": "2024-11-21T21:47:24.030832Z",
     "iopub.status.idle": "2024-11-21T21:47:24.109613Z",
     "shell.execute_reply": "2024-11-21T21:47:24.108437Z"
    },
    "papermill": {
     "duration": 0.100766,
     "end_time": "2024-11-21T21:47:24.111692",
     "exception": false,
     "start_time": "2024-11-21T21:47:24.010926",
     "status": "completed"
    },
    "tags": []
   },
   "outputs": [
    {
     "name": "stdout",
     "output_type": "stream",
     "text": [
      "CustomerID           12957\n",
      "Age                  13059\n",
      "Gender               13136\n",
      "Tenure               12943\n",
      "Usage Frequency      13048\n",
      "Support Calls        12932\n",
      "Payment Delay        12990\n",
      "Subscription Type    13151\n",
      "Contract Length      13092\n",
      "Total Spend              0\n",
      "Last Interaction     13117\n",
      "Churn                12912\n",
      "dtype: int64\n"
     ]
    }
   ],
   "source": [
    "# Sütununun ortalamasını alarak eksik değerleri doldurmak\n",
    "\n",
    "mean_total_spend = df_fillna['Total Spend'].mean()\n",
    "\n",
    "# Sütundaki eksik değerleri doldurmak\n",
    "\n",
    "df_fillna['Total Spend'] = df_fillna['Total Spend'].fillna(value=mean_total_spend)\n",
    "\n",
    "# Eksik değerlerin sayısını kontrol etmek\n",
    "\n",
    "print(df_fillna.isna().sum())"
   ]
  },
  {
   "cell_type": "markdown",
   "id": "0cc88595",
   "metadata": {
    "papermill": {
     "duration": 0.018035,
     "end_time": "2024-11-21T21:47:24.148385",
     "exception": false,
     "start_time": "2024-11-21T21:47:24.130350",
     "status": "completed"
    },
    "tags": []
   },
   "source": [
    "Sayısal değişkenimizin dağılımını görmek için bir histogram çizelim ve özelleştirelim."
   ]
  },
  {
   "cell_type": "code",
   "execution_count": 23,
   "id": "ea1e5c76",
   "metadata": {
    "execution": {
     "iopub.execute_input": "2024-11-21T21:47:24.186111Z",
     "iopub.status.busy": "2024-11-21T21:47:24.185712Z",
     "iopub.status.idle": "2024-11-21T21:47:24.388109Z",
     "shell.execute_reply": "2024-11-21T21:47:24.387045Z"
    },
    "papermill": {
     "duration": 0.223936,
     "end_time": "2024-11-21T21:47:24.390413",
     "exception": false,
     "start_time": "2024-11-21T21:47:24.166477",
     "status": "completed"
    },
    "tags": []
   },
   "outputs": [
    {
     "data": {
      "image/png": "[encoded data removed]",
      "text/plain": [
       "<Figure size 640x480 with 1 Axes>"
      ]
     },
     "metadata": {},
     "output_type": "display_data"
    }
   ],
   "source": [
    "plt.hist(df['Total Spend'], bins=20, color='skyblue', edgecolor='black')\n",
    "plt.title('Toplam Harcama Dağılımı')  # Başlık ekleme\n",
    "plt.xlabel('Total Spend')  # X ekseni etiketleme\n",
    "plt.show()"
   ]
  },
  {
   "cell_type": "markdown",
   "id": "4db3af18",
   "metadata": {
    "papermill": {
     "duration": 0.018956,
     "end_time": "2024-11-21T21:47:24.429121",
     "exception": false,
     "start_time": "2024-11-21T21:47:24.410165",
     "status": "completed"
    },
    "tags": []
   },
   "source": [
    "**3.2.2 Kategorik Değişkenlerin Doldurulması**"
   ]
  },
  {
   "cell_type": "markdown",
   "id": "092fb49a",
   "metadata": {
    "papermill": {
     "duration": 0.018768,
     "end_time": "2024-11-21T21:47:24.467010",
     "exception": false,
     "start_time": "2024-11-21T21:47:24.448242",
     "status": "completed"
    },
    "tags": []
   },
   "source": [
    "Kategorik sütunumuzda sabit bir değer ile doldurma işlemi uygulayabiliriz."
   ]
  },
  {
   "cell_type": "code",
   "execution_count": 24,
   "id": "52ab48c0",
   "metadata": {
    "execution": {
     "iopub.execute_input": "2024-11-21T21:47:24.506971Z",
     "iopub.status.busy": "2024-11-21T21:47:24.506034Z",
     "iopub.status.idle": "2024-11-21T21:47:24.541141Z",
     "shell.execute_reply": "2024-11-21T21:47:24.540126Z"
    },
    "papermill": {
     "duration": 0.057266,
     "end_time": "2024-11-21T21:47:24.543207",
     "exception": false,
     "start_time": "2024-11-21T21:47:24.485941",
     "status": "completed"
    },
    "tags": []
   },
   "outputs": [
    {
     "name": "stdout",
     "output_type": "stream",
     "text": [
      "0    Standard\n",
      "1       Basic\n",
      "2       Basic\n",
      "3    Standard\n",
      "4       Basic\n",
      "5     Premium\n",
      "6    Standard\n",
      "7     Premium\n",
      "8    Standard\n",
      "9    Standard\n",
      "Name: Subscription Type, dtype: object\n"
     ]
    }
   ],
   "source": [
    "# Sabit bir değer ile doldurma\n",
    "\n",
    "df_fillna['Subscription Type'] = df_fillna['Subscription Type'].fillna('Standard')\n",
    "print(df_fillna['Subscription Type'].head(10))"
   ]
  },
  {
   "cell_type": "code",
   "execution_count": 25,
   "id": "ee3a94c3",
   "metadata": {
    "execution": {
     "iopub.execute_input": "2024-11-21T21:47:24.583038Z",
     "iopub.status.busy": "2024-11-21T21:47:24.582648Z",
     "iopub.status.idle": "2024-11-21T21:47:24.844992Z",
     "shell.execute_reply": "2024-11-21T21:47:24.843901Z"
    },
    "papermill": {
     "duration": 0.284985,
     "end_time": "2024-11-21T21:47:24.847213",
     "exception": false,
     "start_time": "2024-11-21T21:47:24.562228",
     "status": "completed"
    },
    "tags": []
   },
   "outputs": [
    {
     "name": "stdout",
     "output_type": "stream",
     "text": [
      "   CustomerID   Age  Gender  Tenure  Usage Frequency  Support Calls  \\\n",
      "0         2.0  30.0  Female    39.0             14.0            5.0   \n",
      "1         3.0  65.0  Female    49.0              1.0           10.0   \n",
      "2         4.0  55.0  Female    14.0              4.0            6.0   \n",
      "3         5.0  58.0    Male    38.0             21.0            7.0   \n",
      "4         6.0  23.0    Male    32.0             20.0            5.0   \n",
      "\n",
      "   Payment Delay Subscription Type Contract Length  Total Spend  \\\n",
      "0           18.0          Standard          Annual        932.0   \n",
      "1            8.0             Basic         Monthly        557.0   \n",
      "2           18.0             Basic       Quarterly        185.0   \n",
      "3            7.0          Standard         Monthly        396.0   \n",
      "4            8.0             Basic         Monthly        617.0   \n",
      "\n",
      "   Last Interaction  Churn  \n",
      "0              17.0    1.0  \n",
      "1               6.0    1.0  \n",
      "2               3.0    1.0  \n",
      "3              29.0    1.0  \n",
      "4              20.0    1.0  \n"
     ]
    }
   ],
   "source": [
    "# Kategorik sütunları mod ile doldurma\n",
    "\n",
    "for column in df_.select_dtypes(include=['object']).columns:\n",
    "    df_[column] = df_[column].fillna(df_[column].mode()[0])\n",
    "\n",
    "# Sayısal sütunları ortalama ile doldurma\n",
    "\n",
    "for column in df_.select_dtypes(include=['float64', 'int64']).columns:\n",
    "    df_[column] = df_[column].fillna(df_[column].mean())\n",
    "\n",
    "# Sonuçları yazdırma\n",
    "print(df_.head())"
   ]
  },
  {
   "cell_type": "markdown",
   "id": "70ca0dc6",
   "metadata": {
    "papermill": {
     "duration": 0.019088,
     "end_time": "2024-11-21T21:47:24.885875",
     "exception": false,
     "start_time": "2024-11-21T21:47:24.866787",
     "status": "completed"
    },
    "tags": []
   },
   "source": [
    "# 4. Kategorik Değişken Analizi"
   ]
  },
  {
   "cell_type": "markdown",
   "id": "f86d62c5",
   "metadata": {
    "papermill": {
     "duration": 0.018793,
     "end_time": "2024-11-21T21:47:24.923791",
     "exception": false,
     "start_time": "2024-11-21T21:47:24.904998",
     "status": "completed"
    },
    "tags": []
   },
   "source": [
    "Verinin kategorik sütunlarındaki dağılımları anlamak ve bu sütunların diğer değişkenlerle ilişkilerini görebilmek için bunları analiz edelim. Öncelikle kategorik sütunlarımzdaki benzersiz kayıtlarımıza ulaşalım."
   ]
  },
  {
   "cell_type": "code",
   "execution_count": 26,
   "id": "68cab59c",
   "metadata": {
    "execution": {
     "iopub.execute_input": "2024-11-21T21:47:24.963380Z",
     "iopub.status.busy": "2024-11-21T21:47:24.963003Z",
     "iopub.status.idle": "2024-11-21T21:47:24.997474Z",
     "shell.execute_reply": "2024-11-21T21:47:24.996388Z"
    },
    "papermill": {
     "duration": 0.057084,
     "end_time": "2024-11-21T21:47:24.999617",
     "exception": false,
     "start_time": "2024-11-21T21:47:24.942533",
     "status": "completed"
    },
    "tags": []
   },
   "outputs": [
    {
     "data": {
      "text/plain": [
       "array(['Standard', 'Basic', 'Premium'], dtype=object)"
      ]
     },
     "execution_count": 26,
     "metadata": {},
     "output_type": "execute_result"
    }
   ],
   "source": [
    "df_[\"Subscription Type\"].unique()"
   ]
  },
  {
   "cell_type": "code",
   "execution_count": 27,
   "id": "7cd3e829",
   "metadata": {
    "execution": {
     "iopub.execute_input": "2024-11-21T21:47:25.041014Z",
     "iopub.status.busy": "2024-11-21T21:47:25.040620Z",
     "iopub.status.idle": "2024-11-21T21:47:25.072269Z",
     "shell.execute_reply": "2024-11-21T21:47:25.071260Z"
    },
    "papermill": {
     "duration": 0.055158,
     "end_time": "2024-11-21T21:47:25.074321",
     "exception": false,
     "start_time": "2024-11-21T21:47:25.019163",
     "status": "completed"
    },
    "tags": []
   },
   "outputs": [
    {
     "data": {
      "text/plain": [
       "array(['Annual', 'Monthly', 'Quarterly'], dtype=object)"
      ]
     },
     "execution_count": 27,
     "metadata": {},
     "output_type": "execute_result"
    }
   ],
   "source": [
    "df_[\"Contract Length\"].unique()"
   ]
  },
  {
   "cell_type": "code",
   "execution_count": 28,
   "id": "d000506c",
   "metadata": {
    "execution": {
     "iopub.execute_input": "2024-11-21T21:47:25.116424Z",
     "iopub.status.busy": "2024-11-21T21:47:25.115670Z",
     "iopub.status.idle": "2024-11-21T21:47:25.144990Z",
     "shell.execute_reply": "2024-11-21T21:47:25.143891Z"
    },
    "papermill": {
     "duration": 0.052779,
     "end_time": "2024-11-21T21:47:25.147078",
     "exception": false,
     "start_time": "2024-11-21T21:47:25.094299",
     "status": "completed"
    },
    "tags": []
   },
   "outputs": [
    {
     "data": {
      "text/plain": [
       "array(['Female', 'Male'], dtype=object)"
      ]
     },
     "execution_count": 28,
     "metadata": {},
     "output_type": "execute_result"
    }
   ],
   "source": [
    "df_[\"Gender\"].unique()"
   ]
  },
  {
   "cell_type": "markdown",
   "id": "7b0efe0c",
   "metadata": {
    "papermill": {
     "duration": 0.019368,
     "end_time": "2024-11-21T21:47:25.185739",
     "exception": false,
     "start_time": "2024-11-21T21:47:25.166371",
     "status": "completed"
    },
    "tags": []
   },
   "source": [
    "Her bir abonelik türünün sahip olduğu müşteri durumunu gözlemleyelim."
   ]
  },
  {
   "cell_type": "code",
   "execution_count": 29,
   "id": "6b593f44",
   "metadata": {
    "execution": {
     "iopub.execute_input": "2024-11-21T21:47:25.225699Z",
     "iopub.status.busy": "2024-11-21T21:47:25.225302Z",
     "iopub.status.idle": "2024-11-21T21:47:25.694577Z",
     "shell.execute_reply": "2024-11-21T21:47:25.693509Z"
    },
    "papermill": {
     "duration": 0.491585,
     "end_time": "2024-11-21T21:47:25.696613",
     "exception": false,
     "start_time": "2024-11-21T21:47:25.205028",
     "status": "completed"
    },
    "tags": []
   },
   "outputs": [
    {
     "data": {
      "image/png": "[encoded data removed]",
      "text/plain": [
       "<Figure size 600x500 with 1 Axes>"
      ]
     },
     "metadata": {},
     "output_type": "display_data"
    }
   ],
   "source": [
    "plt.figure(figsize=(6, 5))\n",
    "sns.countplot(data=df_, x='Subscription Type', palette='Greens',width=0.4)\n",
    "plt.title('Abonelik Türü Dağılımı', fontsize=12)\n",
    "plt.xlabel('Subscription Type', fontsize=12)\n",
    "plt.show()"
   ]
  },
  {
   "cell_type": "markdown",
   "id": "aa98ea08",
   "metadata": {
    "papermill": {
     "duration": 0.020076,
     "end_time": "2024-11-21T21:47:25.736882",
     "exception": false,
     "start_time": "2024-11-21T21:47:25.716806",
     "status": "completed"
    },
    "tags": []
   },
   "source": [
    "Veri setindeki Subscription Type sütununa göre gruplandırma yaparak her bir abonelik türü için Total Spend sütununun temel istatistiksel özetini görelim."
   ]
  },
  {
   "cell_type": "code",
   "execution_count": 30,
   "id": "57fd2e42",
   "metadata": {
    "execution": {
     "iopub.execute_input": "2024-11-21T21:47:25.779497Z",
     "iopub.status.busy": "2024-11-21T21:47:25.779117Z",
     "iopub.status.idle": "2024-11-21T21:47:25.853484Z",
     "shell.execute_reply": "2024-11-21T21:47:25.852327Z"
    },
    "papermill": {
     "duration": 0.098426,
     "end_time": "2024-11-21T21:47:25.856090",
     "exception": false,
     "start_time": "2024-11-21T21:47:25.757664",
     "status": "completed"
    },
    "tags": []
   },
   "outputs": [
    {
     "data": {
      "text/html": [
       "<div>\n",
       "<style scoped>\n",
       "    .dataframe tbody tr th:only-of-type {\n",
       "        vertical-align: middle;\n",
       "    }\n",
       "\n",
       "    .dataframe tbody tr th {\n",
       "        vertical-align: top;\n",
       "    }\n",
       "\n",
       "    .dataframe thead th {\n",
       "        text-align: right;\n",
       "    }\n",
       "</style>\n",
       "<table border=\"1\" class=\"dataframe\">\n",
       "  <thead>\n",
       "    <tr style=\"text-align: right;\">\n",
       "      <th></th>\n",
       "      <th>count</th>\n",
       "      <th>mean</th>\n",
       "      <th>std</th>\n",
       "      <th>min</th>\n",
       "      <th>25%</th>\n",
       "      <th>50%</th>\n",
       "      <th>75%</th>\n",
       "      <th>max</th>\n",
       "    </tr>\n",
       "    <tr>\n",
       "      <th>Subscription Type</th>\n",
       "      <th></th>\n",
       "      <th></th>\n",
       "      <th></th>\n",
       "      <th></th>\n",
       "      <th></th>\n",
       "      <th></th>\n",
       "      <th></th>\n",
       "      <th></th>\n",
       "    </tr>\n",
       "  </thead>\n",
       "  <tbody>\n",
       "    <tr>\n",
       "      <th>Basic</th>\n",
       "      <td>143026.0</td>\n",
       "      <td>628.673496</td>\n",
       "      <td>242.046211</td>\n",
       "      <td>100.0</td>\n",
       "      <td>471.0</td>\n",
       "      <td>657.00</td>\n",
       "      <td>829.115</td>\n",
       "      <td>1000.0</td>\n",
       "    </tr>\n",
       "    <tr>\n",
       "      <th>Premium</th>\n",
       "      <td>148678.0</td>\n",
       "      <td>632.926463</td>\n",
       "      <td>239.884235</td>\n",
       "      <td>100.0</td>\n",
       "      <td>485.0</td>\n",
       "      <td>662.00</td>\n",
       "      <td>829.740</td>\n",
       "      <td>1000.0</td>\n",
       "    </tr>\n",
       "    <tr>\n",
       "      <th>Standard</th>\n",
       "      <td>149129.0</td>\n",
       "      <td>633.132243</td>\n",
       "      <td>240.496873</td>\n",
       "      <td>100.0</td>\n",
       "      <td>485.0</td>\n",
       "      <td>663.24</td>\n",
       "      <td>831.080</td>\n",
       "      <td>1000.0</td>\n",
       "    </tr>\n",
       "  </tbody>\n",
       "</table>\n",
       "</div>"
      ],
      "text/plain": [
       "                      count        mean         std    min    25%     50%  \\\n",
       "Subscription Type                                                           \n",
       "Basic              143026.0  628.673496  242.046211  100.0  471.0  657.00   \n",
       "Premium            148678.0  632.926463  239.884235  100.0  485.0  662.00   \n",
       "Standard           149129.0  633.132243  240.496873  100.0  485.0  663.24   \n",
       "\n",
       "                       75%     max  \n",
       "Subscription Type                   \n",
       "Basic              829.115  1000.0  \n",
       "Premium            829.740  1000.0  \n",
       "Standard           831.080  1000.0  "
      ]
     },
     "execution_count": 30,
     "metadata": {},
     "output_type": "execute_result"
    }
   ],
   "source": [
    "df_.groupby('Subscription Type')['Total Spend'].describe()"
   ]
  },
  {
   "cell_type": "code",
   "execution_count": 31,
   "id": "71268036",
   "metadata": {
    "execution": {
     "iopub.execute_input": "2024-11-21T21:47:25.899767Z",
     "iopub.status.busy": "2024-11-21T21:47:25.899398Z",
     "iopub.status.idle": "2024-11-21T21:47:29.533128Z",
     "shell.execute_reply": "2024-11-21T21:47:29.532103Z"
    },
    "papermill": {
     "duration": 3.65793,
     "end_time": "2024-11-21T21:47:29.535084",
     "exception": false,
     "start_time": "2024-11-21T21:47:25.877154",
     "status": "completed"
    },
    "tags": []
   },
   "outputs": [
    {
     "data": {
      "text/plain": [
       "Text(0.5, 1.0, 'Abonelik Türüne Göre Toplam Harcamaların Cinsiyet Bazında İncelenmesi')"
      ]
     },
     "execution_count": 31,
     "metadata": {},
     "output_type": "execute_result"
    },
    {
     "data": {
      "image/png": "[encoded data removed]",
      "text/plain": [
       "<Figure size 1000x500 with 1 Axes>"
      ]
     },
     "metadata": {},
     "output_type": "display_data"
    }
   ],
   "source": [
    "plt.figure(figsize=(10, 5))\n",
    "sns.barplot(x=\"Subscription Type\", \n",
    "            y=\"Total Spend\", \n",
    "            hue=\"Gender\", \n",
    "            data=df_, \n",
    "            palette=[\"coral\", \"gray\"])\n",
    "plt.title(\"Abonelik Türüne Göre Toplam Harcamaların Cinsiyet Bazında İncelenmesi\")"
   ]
  },
  {
   "cell_type": "markdown",
   "id": "d87e97ba",
   "metadata": {
    "papermill": {
     "duration": 0.020995,
     "end_time": "2024-11-21T21:47:29.577072",
     "exception": false,
     "start_time": "2024-11-21T21:47:29.556077",
     "status": "completed"
    },
    "tags": []
   },
   "source": [
    "# 5. Sürekli Değişken Analizi"
   ]
  },
  {
   "cell_type": "markdown",
   "id": "03e810d6",
   "metadata": {
    "papermill": {
     "duration": 0.020985,
     "end_time": "2024-11-21T21:47:29.619037",
     "exception": false,
     "start_time": "2024-11-21T21:47:29.598052",
     "status": "completed"
    },
    "tags": []
   },
   "source": [
    "Veri setimizdeki sürekli değişkenlerimizi görebilmek için nümerik kolonlara ulaşalım."
   ]
  },
  {
   "cell_type": "code",
   "execution_count": 32,
   "id": "f7908e46",
   "metadata": {
    "execution": {
     "iopub.execute_input": "2024-11-21T21:47:29.665443Z",
     "iopub.status.busy": "2024-11-21T21:47:29.665077Z",
     "iopub.status.idle": "2024-11-21T21:47:29.692012Z",
     "shell.execute_reply": "2024-11-21T21:47:29.691023Z"
    },
    "papermill": {
     "duration": 0.052563,
     "end_time": "2024-11-21T21:47:29.694122",
     "exception": false,
     "start_time": "2024-11-21T21:47:29.641559",
     "status": "completed"
    },
    "tags": []
   },
   "outputs": [
    {
     "data": {
      "text/html": [
       "<div>\n",
       "<style scoped>\n",
       "    .dataframe tbody tr th:only-of-type {\n",
       "        vertical-align: middle;\n",
       "    }\n",
       "\n",
       "    .dataframe tbody tr th {\n",
       "        vertical-align: top;\n",
       "    }\n",
       "\n",
       "    .dataframe thead th {\n",
       "        text-align: right;\n",
       "    }\n",
       "</style>\n",
       "<table border=\"1\" class=\"dataframe\">\n",
       "  <thead>\n",
       "    <tr style=\"text-align: right;\">\n",
       "      <th></th>\n",
       "      <th>CustomerID</th>\n",
       "      <th>Age</th>\n",
       "      <th>Tenure</th>\n",
       "      <th>Usage Frequency</th>\n",
       "      <th>Support Calls</th>\n",
       "      <th>Payment Delay</th>\n",
       "      <th>Total Spend</th>\n",
       "      <th>Last Interaction</th>\n",
       "      <th>Churn</th>\n",
       "    </tr>\n",
       "  </thead>\n",
       "  <tbody>\n",
       "    <tr>\n",
       "      <th>0</th>\n",
       "      <td>2.0</td>\n",
       "      <td>30.0</td>\n",
       "      <td>39.0</td>\n",
       "      <td>14.0</td>\n",
       "      <td>5.0</td>\n",
       "      <td>18.0</td>\n",
       "      <td>932.0</td>\n",
       "      <td>17.0</td>\n",
       "      <td>1.0</td>\n",
       "    </tr>\n",
       "    <tr>\n",
       "      <th>1</th>\n",
       "      <td>3.0</td>\n",
       "      <td>65.0</td>\n",
       "      <td>49.0</td>\n",
       "      <td>1.0</td>\n",
       "      <td>10.0</td>\n",
       "      <td>8.0</td>\n",
       "      <td>557.0</td>\n",
       "      <td>6.0</td>\n",
       "      <td>1.0</td>\n",
       "    </tr>\n",
       "    <tr>\n",
       "      <th>2</th>\n",
       "      <td>4.0</td>\n",
       "      <td>55.0</td>\n",
       "      <td>14.0</td>\n",
       "      <td>4.0</td>\n",
       "      <td>6.0</td>\n",
       "      <td>18.0</td>\n",
       "      <td>185.0</td>\n",
       "      <td>3.0</td>\n",
       "      <td>1.0</td>\n",
       "    </tr>\n",
       "    <tr>\n",
       "      <th>3</th>\n",
       "      <td>5.0</td>\n",
       "      <td>58.0</td>\n",
       "      <td>38.0</td>\n",
       "      <td>21.0</td>\n",
       "      <td>7.0</td>\n",
       "      <td>7.0</td>\n",
       "      <td>396.0</td>\n",
       "      <td>29.0</td>\n",
       "      <td>1.0</td>\n",
       "    </tr>\n",
       "    <tr>\n",
       "      <th>4</th>\n",
       "      <td>6.0</td>\n",
       "      <td>23.0</td>\n",
       "      <td>32.0</td>\n",
       "      <td>NaN</td>\n",
       "      <td>5.0</td>\n",
       "      <td>8.0</td>\n",
       "      <td>617.0</td>\n",
       "      <td>20.0</td>\n",
       "      <td>1.0</td>\n",
       "    </tr>\n",
       "  </tbody>\n",
       "</table>\n",
       "</div>"
      ],
      "text/plain": [
       "   CustomerID   Age  Tenure  Usage Frequency  Support Calls  Payment Delay  \\\n",
       "0         2.0  30.0    39.0             14.0            5.0           18.0   \n",
       "1         3.0  65.0    49.0              1.0           10.0            8.0   \n",
       "2         4.0  55.0    14.0              4.0            6.0           18.0   \n",
       "3         5.0  58.0    38.0             21.0            7.0            7.0   \n",
       "4         6.0  23.0    32.0              NaN            5.0            8.0   \n",
       "\n",
       "   Total Spend  Last Interaction  Churn  \n",
       "0        932.0              17.0    1.0  \n",
       "1        557.0               6.0    1.0  \n",
       "2        185.0               3.0    1.0  \n",
       "3        396.0              29.0    1.0  \n",
       "4        617.0              20.0    1.0  "
      ]
     },
     "execution_count": 32,
     "metadata": {},
     "output_type": "execute_result"
    }
   ],
   "source": [
    "df_numerical = df.select_dtypes(include = [\"float64\", \"int64\"])\n",
    "df_numerical.head()"
   ]
  },
  {
   "cell_type": "code",
   "execution_count": 33,
   "id": "314ac995",
   "metadata": {
    "execution": {
     "iopub.execute_input": "2024-11-21T21:47:29.738655Z",
     "iopub.status.busy": "2024-11-21T21:47:29.737841Z",
     "iopub.status.idle": "2024-11-21T21:47:29.965592Z",
     "shell.execute_reply": "2024-11-21T21:47:29.964441Z"
    },
    "papermill": {
     "duration": 0.252253,
     "end_time": "2024-11-21T21:47:29.967600",
     "exception": false,
     "start_time": "2024-11-21T21:47:29.715347",
     "status": "completed"
    },
    "tags": []
   },
   "outputs": [
    {
     "data": {
      "text/html": [
       "<div>\n",
       "<style scoped>\n",
       "    .dataframe tbody tr th:only-of-type {\n",
       "        vertical-align: middle;\n",
       "    }\n",
       "\n",
       "    .dataframe tbody tr th {\n",
       "        vertical-align: top;\n",
       "    }\n",
       "\n",
       "    .dataframe thead th {\n",
       "        text-align: right;\n",
       "    }\n",
       "</style>\n",
       "<table border=\"1\" class=\"dataframe\">\n",
       "  <thead>\n",
       "    <tr style=\"text-align: right;\">\n",
       "      <th></th>\n",
       "      <th>count</th>\n",
       "      <th>mean</th>\n",
       "      <th>std</th>\n",
       "      <th>min</th>\n",
       "      <th>25%</th>\n",
       "      <th>50%</th>\n",
       "      <th>75%</th>\n",
       "      <th>max</th>\n",
       "    </tr>\n",
       "  </thead>\n",
       "  <tbody>\n",
       "    <tr>\n",
       "      <th>CustomerID</th>\n",
       "      <td>427876.0</td>\n",
       "      <td>225464.545504</td>\n",
       "      <td>129526.916324</td>\n",
       "      <td>2.0</td>\n",
       "      <td>113693.75</td>\n",
       "      <td>226252.5</td>\n",
       "      <td>337792.25</td>\n",
       "      <td>449999.0</td>\n",
       "    </tr>\n",
       "    <tr>\n",
       "      <th>Age</th>\n",
       "      <td>427774.0</td>\n",
       "      <td>39.368809</td>\n",
       "      <td>12.445871</td>\n",
       "      <td>18.0</td>\n",
       "      <td>29.00</td>\n",
       "      <td>39.0</td>\n",
       "      <td>48.00</td>\n",
       "      <td>65.0</td>\n",
       "    </tr>\n",
       "    <tr>\n",
       "      <th>Tenure</th>\n",
       "      <td>427890.0</td>\n",
       "      <td>31.262317</td>\n",
       "      <td>17.253462</td>\n",
       "      <td>1.0</td>\n",
       "      <td>16.00</td>\n",
       "      <td>32.0</td>\n",
       "      <td>46.00</td>\n",
       "      <td>60.0</td>\n",
       "    </tr>\n",
       "    <tr>\n",
       "      <th>Usage Frequency</th>\n",
       "      <td>427785.0</td>\n",
       "      <td>15.809769</td>\n",
       "      <td>8.586941</td>\n",
       "      <td>1.0</td>\n",
       "      <td>9.00</td>\n",
       "      <td>16.0</td>\n",
       "      <td>23.00</td>\n",
       "      <td>30.0</td>\n",
       "    </tr>\n",
       "    <tr>\n",
       "      <th>Support Calls</th>\n",
       "      <td>427901.0</td>\n",
       "      <td>3.604479</td>\n",
       "      <td>3.070686</td>\n",
       "      <td>0.0</td>\n",
       "      <td>1.00</td>\n",
       "      <td>3.0</td>\n",
       "      <td>6.00</td>\n",
       "      <td>10.0</td>\n",
       "    </tr>\n",
       "    <tr>\n",
       "      <th>Payment Delay</th>\n",
       "      <td>427843.0</td>\n",
       "      <td>12.970510</td>\n",
       "      <td>8.259023</td>\n",
       "      <td>0.0</td>\n",
       "      <td>6.00</td>\n",
       "      <td>12.0</td>\n",
       "      <td>19.00</td>\n",
       "      <td>30.0</td>\n",
       "    </tr>\n",
       "    <tr>\n",
       "      <th>Total Spend</th>\n",
       "      <td>427729.0</td>\n",
       "      <td>631.697853</td>\n",
       "      <td>240.762626</td>\n",
       "      <td>100.0</td>\n",
       "      <td>481.00</td>\n",
       "      <td>661.0</td>\n",
       "      <td>830.00</td>\n",
       "      <td>1000.0</td>\n",
       "    </tr>\n",
       "    <tr>\n",
       "      <th>Last Interaction</th>\n",
       "      <td>427716.0</td>\n",
       "      <td>14.479091</td>\n",
       "      <td>8.597111</td>\n",
       "      <td>1.0</td>\n",
       "      <td>7.00</td>\n",
       "      <td>14.0</td>\n",
       "      <td>22.00</td>\n",
       "      <td>30.0</td>\n",
       "    </tr>\n",
       "    <tr>\n",
       "      <th>Churn</th>\n",
       "      <td>427921.0</td>\n",
       "      <td>0.566920</td>\n",
       "      <td>0.495502</td>\n",
       "      <td>0.0</td>\n",
       "      <td>0.00</td>\n",
       "      <td>1.0</td>\n",
       "      <td>1.00</td>\n",
       "      <td>1.0</td>\n",
       "    </tr>\n",
       "  </tbody>\n",
       "</table>\n",
       "</div>"
      ],
      "text/plain": [
       "                     count           mean            std    min        25%  \\\n",
       "CustomerID        427876.0  225464.545504  129526.916324    2.0  113693.75   \n",
       "Age               427774.0      39.368809      12.445871   18.0      29.00   \n",
       "Tenure            427890.0      31.262317      17.253462    1.0      16.00   \n",
       "Usage Frequency   427785.0      15.809769       8.586941    1.0       9.00   \n",
       "Support Calls     427901.0       3.604479       3.070686    0.0       1.00   \n",
       "Payment Delay     427843.0      12.970510       8.259023    0.0       6.00   \n",
       "Total Spend       427729.0     631.697853     240.762626  100.0     481.00   \n",
       "Last Interaction  427716.0      14.479091       8.597111    1.0       7.00   \n",
       "Churn             427921.0       0.566920       0.495502    0.0       0.00   \n",
       "\n",
       "                       50%        75%       max  \n",
       "CustomerID        226252.5  337792.25  449999.0  \n",
       "Age                   39.0      48.00      65.0  \n",
       "Tenure                32.0      46.00      60.0  \n",
       "Usage Frequency       16.0      23.00      30.0  \n",
       "Support Calls          3.0       6.00      10.0  \n",
       "Payment Delay         12.0      19.00      30.0  \n",
       "Total Spend          661.0     830.00    1000.0  \n",
       "Last Interaction      14.0      22.00      30.0  \n",
       "Churn                  1.0       1.00       1.0  "
      ]
     },
     "execution_count": 33,
     "metadata": {},
     "output_type": "execute_result"
    }
   ],
   "source": [
    "df_numerical.describe().T"
   ]
  },
  {
   "cell_type": "markdown",
   "id": "14479d89",
   "metadata": {
    "papermill": {
     "duration": 0.021798,
     "end_time": "2024-11-21T21:47:30.011135",
     "exception": false,
     "start_time": "2024-11-21T21:47:29.989337",
     "status": "completed"
    },
    "tags": []
   },
   "source": [
    "Kullanıcıların yaş verilerinin nasıl dağıldığını görmek üzere bir histogram oluşturalım."
   ]
  },
  {
   "cell_type": "code",
   "execution_count": 34,
   "id": "6c20c762",
   "metadata": {
    "execution": {
     "iopub.execute_input": "2024-11-21T21:47:30.107066Z",
     "iopub.status.busy": "2024-11-21T21:47:30.106441Z",
     "iopub.status.idle": "2024-11-21T21:47:32.196108Z",
     "shell.execute_reply": "2024-11-21T21:47:32.194905Z"
    },
    "papermill": {
     "duration": 2.16499,
     "end_time": "2024-11-21T21:47:32.198336",
     "exception": false,
     "start_time": "2024-11-21T21:47:30.033346",
     "status": "completed"
    },
    "tags": []
   },
   "outputs": [
    {
     "name": "stderr",
     "output_type": "stream",
     "text": [
      "/opt/conda/lib/python3.10/site-packages/seaborn/_oldcore.py:1119: FutureWarning: use_inf_as_na option is deprecated and will be removed in a future version. Convert inf values to NaN before operating instead.\n",
      "  with pd.option_context('mode.use_inf_as_na', True):\n"
     ]
    },
    {
     "data": {
      "image/png": "[encoded data removed]",
      "text/plain": [
       "<Figure size 640x480 with 1 Axes>"
      ]
     },
     "metadata": {},
     "output_type": "display_data"
    }
   ],
   "source": [
    "sns.histplot(df['Age'], kde=True, color='orange')\n",
    "plt.title('Yaş Dağılımı')  \n",
    "plt.xlabel('Age')\n",
    "plt.show()"
   ]
  },
  {
   "cell_type": "markdown",
   "id": "c0d27753",
   "metadata": {
    "papermill": {
     "duration": 0.02259,
     "end_time": "2024-11-21T21:47:32.243258",
     "exception": false,
     "start_time": "2024-11-21T21:47:32.220668",
     "status": "completed"
    },
    "tags": []
   },
   "source": [
    "Sürekli değişkenlerimiz arasındaki ilişkiyi anlamak amacıyla korelasyon matrisi oluşturalım"
   ]
  },
  {
   "cell_type": "code",
   "execution_count": 35,
   "id": "8bd5e858",
   "metadata": {
    "execution": {
     "iopub.execute_input": "2024-11-21T21:47:32.289789Z",
     "iopub.status.busy": "2024-11-21T21:47:32.289403Z",
     "iopub.status.idle": "2024-11-21T21:47:32.602394Z",
     "shell.execute_reply": "2024-11-21T21:47:32.601449Z"
    },
    "papermill": {
     "duration": 0.33863,
     "end_time": "2024-11-21T21:47:32.604456",
     "exception": false,
     "start_time": "2024-11-21T21:47:32.265826",
     "status": "completed"
    },
    "tags": []
   },
   "outputs": [
    {
     "data": {
      "image/png": "[encoded data removed]",
      "text/plain": [
       "<Figure size 640x480 with 2 Axes>"
      ]
     },
     "metadata": {},
     "output_type": "display_data"
    }
   ],
   "source": [
    "correlation_matrix = df[['Age', 'Tenure', 'Total Spend']].corr()\n",
    "sns.heatmap(correlation_matrix, annot=True, cmap='YlOrRd')\n",
    "plt.show()"
   ]
  },
  {
   "cell_type": "code",
   "execution_count": 36,
   "id": "11e4869f",
   "metadata": {
    "execution": {
     "iopub.execute_input": "2024-11-21T21:47:32.654784Z",
     "iopub.status.busy": "2024-11-21T21:47:32.653900Z",
     "iopub.status.idle": "2024-11-21T21:47:34.702301Z",
     "shell.execute_reply": "2024-11-21T21:47:34.701233Z"
    },
    "papermill": {
     "duration": 2.077212,
     "end_time": "2024-11-21T21:47:34.704765",
     "exception": false,
     "start_time": "2024-11-21T21:47:32.627553",
     "status": "completed"
    },
    "tags": []
   },
   "outputs": [
    {
     "name": "stderr",
     "output_type": "stream",
     "text": [
      "/opt/conda/lib/python3.10/site-packages/seaborn/_oldcore.py:1119: FutureWarning: use_inf_as_na option is deprecated and will be removed in a future version. Convert inf values to NaN before operating instead.\n",
      "  with pd.option_context('mode.use_inf_as_na', True):\n"
     ]
    },
    {
     "data": {
      "image/png": "[encoded data removed]",
      "text/plain": [
       "<Figure size 640x480 with 1 Axes>"
      ]
     },
     "metadata": {},
     "output_type": "display_data"
    }
   ],
   "source": [
    "sns.kdeplot(df['Payment Delay'], fill=True, color='orange')\n",
    "plt.title('Ödeme Gecikmesi İçin Yoğunluk Grafiği')\n",
    "plt.xlabel('Ödeme Gecikmesi')\n",
    "plt.ylabel(' ')\n",
    "plt.show()"
   ]
  },
  {
   "cell_type": "code",
   "execution_count": 37,
   "id": "3bdef814",
   "metadata": {
    "execution": {
     "iopub.execute_input": "2024-11-21T21:47:34.756637Z",
     "iopub.status.busy": "2024-11-21T21:47:34.755958Z",
     "iopub.status.idle": "2024-11-21T21:47:37.350865Z",
     "shell.execute_reply": "2024-11-21T21:47:37.349909Z"
    },
    "papermill": {
     "duration": 2.624136,
     "end_time": "2024-11-21T21:47:37.353238",
     "exception": false,
     "start_time": "2024-11-21T21:47:34.729102",
     "status": "completed"
    },
    "tags": []
   },
   "outputs": [
    {
     "data": {
      "text/plain": [
       "<seaborn.axisgrid.FacetGrid at 0x7c4c4f8b13c0>"
      ]
     },
     "execution_count": 37,
     "metadata": {},
     "output_type": "execute_result"
    },
    {
     "data": {
      "image/png": "[encoded data removed]",
      "text/plain": [
       "<Figure size 623.361x500 with 1 Axes>"
      ]
     },
     "metadata": {},
     "output_type": "display_data"
    }
   ],
   "source": [
    "import warnings\n",
    "warnings.simplefilter(action='ignore', category=FutureWarning)\n",
    "sns.FacetGrid(df_, hue = \"Contract Length\", height = 5, xlim = (0,500)).map(sns.kdeplot, \"Total Spend\", fill = True).add_legend()"
   ]
  },
  {
   "cell_type": "markdown",
   "id": "684192b1",
   "metadata": {
    "papermill": {
     "duration": 0.023735,
     "end_time": "2024-11-21T21:47:37.401181",
     "exception": false,
     "start_time": "2024-11-21T21:47:37.377446",
     "status": "completed"
    },
    "tags": []
   },
   "source": [
    "# 6. Özellik Mühendisliği"
   ]
  },
  {
   "cell_type": "markdown",
   "id": "566276c0",
   "metadata": {
    "papermill": {
     "duration": 0.023758,
     "end_time": "2024-11-21T21:47:37.448968",
     "exception": false,
     "start_time": "2024-11-21T21:47:37.425210",
     "status": "completed"
    },
    "tags": []
   },
   "source": [
    "Yaş değişkenimizi gruplara ayırabiliriz. Bu sayede hangi yaş gruplarında müşterilerimiz olduğunu öğrenebiliriz."
   ]
  },
  {
   "cell_type": "code",
   "execution_count": 38,
   "id": "7884c3c1",
   "metadata": {
    "execution": {
     "iopub.execute_input": "2024-11-21T21:47:37.498496Z",
     "iopub.status.busy": "2024-11-21T21:47:37.498129Z",
     "iopub.status.idle": "2024-11-21T21:47:37.529773Z",
     "shell.execute_reply": "2024-11-21T21:47:37.528728Z"
    },
    "papermill": {
     "duration": 0.059463,
     "end_time": "2024-11-21T21:47:37.532261",
     "exception": false,
     "start_time": "2024-11-21T21:47:37.472798",
     "status": "completed"
    },
    "tags": []
   },
   "outputs": [
    {
     "data": {
      "text/html": [
       "<div>\n",
       "<style scoped>\n",
       "    .dataframe tbody tr th:only-of-type {\n",
       "        vertical-align: middle;\n",
       "    }\n",
       "\n",
       "    .dataframe tbody tr th {\n",
       "        vertical-align: top;\n",
       "    }\n",
       "\n",
       "    .dataframe thead th {\n",
       "        text-align: right;\n",
       "    }\n",
       "</style>\n",
       "<table border=\"1\" class=\"dataframe\">\n",
       "  <thead>\n",
       "    <tr style=\"text-align: right;\">\n",
       "      <th></th>\n",
       "      <th>CustomerID</th>\n",
       "      <th>Age</th>\n",
       "      <th>Gender</th>\n",
       "      <th>Tenure</th>\n",
       "      <th>Usage Frequency</th>\n",
       "      <th>Support Calls</th>\n",
       "      <th>Payment Delay</th>\n",
       "      <th>Subscription Type</th>\n",
       "      <th>Contract Length</th>\n",
       "      <th>Total Spend</th>\n",
       "      <th>Last Interaction</th>\n",
       "      <th>Churn</th>\n",
       "      <th>Age Group</th>\n",
       "    </tr>\n",
       "  </thead>\n",
       "  <tbody>\n",
       "    <tr>\n",
       "      <th>0</th>\n",
       "      <td>2.0</td>\n",
       "      <td>30.0</td>\n",
       "      <td>Female</td>\n",
       "      <td>39.0</td>\n",
       "      <td>14.0</td>\n",
       "      <td>5.0</td>\n",
       "      <td>18.0</td>\n",
       "      <td>Standard</td>\n",
       "      <td>Annual</td>\n",
       "      <td>932.0</td>\n",
       "      <td>17.0</td>\n",
       "      <td>1.0</td>\n",
       "      <td>Young Adult</td>\n",
       "    </tr>\n",
       "    <tr>\n",
       "      <th>1</th>\n",
       "      <td>3.0</td>\n",
       "      <td>65.0</td>\n",
       "      <td>Female</td>\n",
       "      <td>49.0</td>\n",
       "      <td>1.0</td>\n",
       "      <td>10.0</td>\n",
       "      <td>8.0</td>\n",
       "      <td>Basic</td>\n",
       "      <td>Monthly</td>\n",
       "      <td>557.0</td>\n",
       "      <td>6.0</td>\n",
       "      <td>1.0</td>\n",
       "      <td>Senior</td>\n",
       "    </tr>\n",
       "    <tr>\n",
       "      <th>2</th>\n",
       "      <td>4.0</td>\n",
       "      <td>55.0</td>\n",
       "      <td>Female</td>\n",
       "      <td>14.0</td>\n",
       "      <td>4.0</td>\n",
       "      <td>6.0</td>\n",
       "      <td>18.0</td>\n",
       "      <td>Basic</td>\n",
       "      <td>Quarterly</td>\n",
       "      <td>185.0</td>\n",
       "      <td>3.0</td>\n",
       "      <td>1.0</td>\n",
       "      <td>Senior</td>\n",
       "    </tr>\n",
       "    <tr>\n",
       "      <th>3</th>\n",
       "      <td>5.0</td>\n",
       "      <td>58.0</td>\n",
       "      <td>Male</td>\n",
       "      <td>38.0</td>\n",
       "      <td>21.0</td>\n",
       "      <td>7.0</td>\n",
       "      <td>7.0</td>\n",
       "      <td>Standard</td>\n",
       "      <td>Monthly</td>\n",
       "      <td>396.0</td>\n",
       "      <td>29.0</td>\n",
       "      <td>1.0</td>\n",
       "      <td>Senior</td>\n",
       "    </tr>\n",
       "    <tr>\n",
       "      <th>4</th>\n",
       "      <td>6.0</td>\n",
       "      <td>23.0</td>\n",
       "      <td>Male</td>\n",
       "      <td>32.0</td>\n",
       "      <td>NaN</td>\n",
       "      <td>5.0</td>\n",
       "      <td>8.0</td>\n",
       "      <td>Basic</td>\n",
       "      <td>Monthly</td>\n",
       "      <td>617.0</td>\n",
       "      <td>20.0</td>\n",
       "      <td>1.0</td>\n",
       "      <td>Young Adult</td>\n",
       "    </tr>\n",
       "  </tbody>\n",
       "</table>\n",
       "</div>"
      ],
      "text/plain": [
       "   CustomerID   Age  Gender  Tenure  Usage Frequency  Support Calls  \\\n",
       "0         2.0  30.0  Female    39.0             14.0            5.0   \n",
       "1         3.0  65.0  Female    49.0              1.0           10.0   \n",
       "2         4.0  55.0  Female    14.0              4.0            6.0   \n",
       "3         5.0  58.0    Male    38.0             21.0            7.0   \n",
       "4         6.0  23.0    Male    32.0              NaN            5.0   \n",
       "\n",
       "   Payment Delay Subscription Type Contract Length  Total Spend  \\\n",
       "0           18.0          Standard          Annual        932.0   \n",
       "1            8.0             Basic         Monthly        557.0   \n",
       "2           18.0             Basic       Quarterly        185.0   \n",
       "3            7.0          Standard         Monthly        396.0   \n",
       "4            8.0             Basic         Monthly        617.0   \n",
       "\n",
       "   Last Interaction  Churn    Age Group  \n",
       "0              17.0    1.0  Young Adult  \n",
       "1               6.0    1.0       Senior  \n",
       "2               3.0    1.0       Senior  \n",
       "3              29.0    1.0       Senior  \n",
       "4              20.0    1.0  Young Adult  "
      ]
     },
     "execution_count": 38,
     "metadata": {},
     "output_type": "execute_result"
    }
   ],
   "source": [
    "df['Age Group'] = pd.cut(df['Age'], bins=[0, 18, 35, 50, 65, 100], \n",
    "                         labels=['Teen', 'Young Adult', 'Adult', 'Senior', 'Elder'])\n",
    "\n",
    "df.head(5)"
   ]
  },
  {
   "cell_type": "code",
   "execution_count": 39,
   "id": "0169c9ce",
   "metadata": {
    "execution": {
     "iopub.execute_input": "2024-11-21T21:47:37.585340Z",
     "iopub.status.busy": "2024-11-21T21:47:37.584801Z",
     "iopub.status.idle": "2024-11-21T21:47:37.779863Z",
     "shell.execute_reply": "2024-11-21T21:47:37.778624Z"
    },
    "papermill": {
     "duration": 0.225987,
     "end_time": "2024-11-21T21:47:37.782876",
     "exception": false,
     "start_time": "2024-11-21T21:47:37.556889",
     "status": "completed"
    },
    "tags": []
   },
   "outputs": [
    {
     "data": {
      "image/png": "[encoded data removed]",
      "text/plain": [
       "<Figure size 640x480 with 1 Axes>"
      ]
     },
     "metadata": {},
     "output_type": "display_data"
    }
   ],
   "source": [
    "sns.countplot(data=df, x='Age Group', palette='pastel')\n",
    "plt.title('Yaş Gruplarının Dağılımı')\n",
    "plt.show()"
   ]
  },
  {
   "cell_type": "markdown",
   "id": "08291ea9",
   "metadata": {
    "papermill": {
     "duration": 0.033663,
     "end_time": "2024-11-21T21:47:37.851646",
     "exception": false,
     "start_time": "2024-11-21T21:47:37.817983",
     "status": "completed"
    },
    "tags": []
   },
   "source": [
    "Son etkileşimlerin ne zaman yapıldığı bilgisine ulaşabiliriz."
   ]
  },
  {
   "cell_type": "code",
   "execution_count": 40,
   "id": "8da95419",
   "metadata": {
    "execution": {
     "iopub.execute_input": "2024-11-21T21:47:37.904258Z",
     "iopub.status.busy": "2024-11-21T21:47:37.903510Z",
     "iopub.status.idle": "2024-11-21T21:47:37.933587Z",
     "shell.execute_reply": "2024-11-21T21:47:37.932571Z"
    },
    "papermill": {
     "duration": 0.059203,
     "end_time": "2024-11-21T21:47:37.935635",
     "exception": false,
     "start_time": "2024-11-21T21:47:37.876432",
     "status": "completed"
    },
    "tags": []
   },
   "outputs": [
    {
     "data": {
      "text/html": [
       "<div>\n",
       "<style scoped>\n",
       "    .dataframe tbody tr th:only-of-type {\n",
       "        vertical-align: middle;\n",
       "    }\n",
       "\n",
       "    .dataframe tbody tr th {\n",
       "        vertical-align: top;\n",
       "    }\n",
       "\n",
       "    .dataframe thead th {\n",
       "        text-align: right;\n",
       "    }\n",
       "</style>\n",
       "<table border=\"1\" class=\"dataframe\">\n",
       "  <thead>\n",
       "    <tr style=\"text-align: right;\">\n",
       "      <th></th>\n",
       "      <th>CustomerID</th>\n",
       "      <th>Age</th>\n",
       "      <th>Gender</th>\n",
       "      <th>Tenure</th>\n",
       "      <th>Usage Frequency</th>\n",
       "      <th>Support Calls</th>\n",
       "      <th>Payment Delay</th>\n",
       "      <th>Subscription Type</th>\n",
       "      <th>Contract Length</th>\n",
       "      <th>Total Spend</th>\n",
       "      <th>Last Interaction</th>\n",
       "      <th>Churn</th>\n",
       "      <th>Age Group</th>\n",
       "      <th>Last Interaction Level</th>\n",
       "    </tr>\n",
       "  </thead>\n",
       "  <tbody>\n",
       "    <tr>\n",
       "      <th>0</th>\n",
       "      <td>2.0</td>\n",
       "      <td>30.0</td>\n",
       "      <td>Female</td>\n",
       "      <td>39.0</td>\n",
       "      <td>14.0</td>\n",
       "      <td>5.0</td>\n",
       "      <td>18.0</td>\n",
       "      <td>Standard</td>\n",
       "      <td>Annual</td>\n",
       "      <td>932.0</td>\n",
       "      <td>17.0</td>\n",
       "      <td>1.0</td>\n",
       "      <td>Young Adult</td>\n",
       "      <td>Recent</td>\n",
       "    </tr>\n",
       "    <tr>\n",
       "      <th>1</th>\n",
       "      <td>3.0</td>\n",
       "      <td>65.0</td>\n",
       "      <td>Female</td>\n",
       "      <td>49.0</td>\n",
       "      <td>1.0</td>\n",
       "      <td>10.0</td>\n",
       "      <td>8.0</td>\n",
       "      <td>Basic</td>\n",
       "      <td>Monthly</td>\n",
       "      <td>557.0</td>\n",
       "      <td>6.0</td>\n",
       "      <td>1.0</td>\n",
       "      <td>Senior</td>\n",
       "      <td>Very Recent</td>\n",
       "    </tr>\n",
       "    <tr>\n",
       "      <th>2</th>\n",
       "      <td>4.0</td>\n",
       "      <td>55.0</td>\n",
       "      <td>Female</td>\n",
       "      <td>14.0</td>\n",
       "      <td>4.0</td>\n",
       "      <td>6.0</td>\n",
       "      <td>18.0</td>\n",
       "      <td>Basic</td>\n",
       "      <td>Quarterly</td>\n",
       "      <td>185.0</td>\n",
       "      <td>3.0</td>\n",
       "      <td>1.0</td>\n",
       "      <td>Senior</td>\n",
       "      <td>Very Recent</td>\n",
       "    </tr>\n",
       "    <tr>\n",
       "      <th>3</th>\n",
       "      <td>5.0</td>\n",
       "      <td>58.0</td>\n",
       "      <td>Male</td>\n",
       "      <td>38.0</td>\n",
       "      <td>21.0</td>\n",
       "      <td>7.0</td>\n",
       "      <td>7.0</td>\n",
       "      <td>Standard</td>\n",
       "      <td>Monthly</td>\n",
       "      <td>396.0</td>\n",
       "      <td>29.0</td>\n",
       "      <td>1.0</td>\n",
       "      <td>Senior</td>\n",
       "      <td>Recent</td>\n",
       "    </tr>\n",
       "    <tr>\n",
       "      <th>4</th>\n",
       "      <td>6.0</td>\n",
       "      <td>23.0</td>\n",
       "      <td>Male</td>\n",
       "      <td>32.0</td>\n",
       "      <td>NaN</td>\n",
       "      <td>5.0</td>\n",
       "      <td>8.0</td>\n",
       "      <td>Basic</td>\n",
       "      <td>Monthly</td>\n",
       "      <td>617.0</td>\n",
       "      <td>20.0</td>\n",
       "      <td>1.0</td>\n",
       "      <td>Young Adult</td>\n",
       "      <td>Recent</td>\n",
       "    </tr>\n",
       "  </tbody>\n",
       "</table>\n",
       "</div>"
      ],
      "text/plain": [
       "   CustomerID   Age  Gender  Tenure  Usage Frequency  Support Calls  \\\n",
       "0         2.0  30.0  Female    39.0             14.0            5.0   \n",
       "1         3.0  65.0  Female    49.0              1.0           10.0   \n",
       "2         4.0  55.0  Female    14.0              4.0            6.0   \n",
       "3         5.0  58.0    Male    38.0             21.0            7.0   \n",
       "4         6.0  23.0    Male    32.0              NaN            5.0   \n",
       "\n",
       "   Payment Delay Subscription Type Contract Length  Total Spend  \\\n",
       "0           18.0          Standard          Annual        932.0   \n",
       "1            8.0             Basic         Monthly        557.0   \n",
       "2           18.0             Basic       Quarterly        185.0   \n",
       "3            7.0          Standard         Monthly        396.0   \n",
       "4            8.0             Basic         Monthly        617.0   \n",
       "\n",
       "   Last Interaction  Churn    Age Group Last Interaction Level  \n",
       "0              17.0    1.0  Young Adult                 Recent  \n",
       "1               6.0    1.0       Senior            Very Recent  \n",
       "2               3.0    1.0       Senior            Very Recent  \n",
       "3              29.0    1.0       Senior                 Recent  \n",
       "4              20.0    1.0  Young Adult                 Recent  "
      ]
     },
     "execution_count": 40,
     "metadata": {},
     "output_type": "execute_result"
    }
   ],
   "source": [
    "df['Last Interaction Level'] = pd.cut(df['Last Interaction'], \n",
    "                                      bins=[0, 10, 30, 90, 180, 365], \n",
    "                                      labels=['Very Recent', 'Recent', 'Moderate', 'Old', 'Very Old'])\n",
    "df.head(5)"
   ]
  },
  {
   "cell_type": "markdown",
   "id": "643eaf77",
   "metadata": {
    "papermill": {
     "duration": 0.025109,
     "end_time": "2024-11-21T21:47:37.986091",
     "exception": false,
     "start_time": "2024-11-21T21:47:37.960982",
     "status": "completed"
    },
    "tags": []
   },
   "source": [
    "Last Interaction Level ve Churn (terk durumu) değişkenleri arasındaki ilişkiyi bir pivot tablo ve ısı haritası (heatmap) kullanarak görselleştirelim."
   ]
  },
  {
   "cell_type": "code",
   "execution_count": 41,
   "id": "8628be66",
   "metadata": {
    "execution": {
     "iopub.execute_input": "2024-11-21T21:47:38.039235Z",
     "iopub.status.busy": "2024-11-21T21:47:38.038363Z",
     "iopub.status.idle": "2024-11-21T21:47:38.362827Z",
     "shell.execute_reply": "2024-11-21T21:47:38.361892Z"
    },
    "papermill": {
     "duration": 0.354021,
     "end_time": "2024-11-21T21:47:38.365311",
     "exception": false,
     "start_time": "2024-11-21T21:47:38.011290",
     "status": "completed"
    },
    "tags": []
   },
   "outputs": [
    {
     "data": {
      "image/png": "[encoded data removed]",
      "text/plain": [
       "<Figure size 640x480 with 2 Axes>"
      ]
     },
     "metadata": {},
     "output_type": "display_data"
    }
   ],
   "source": [
    "interaction_churn = df.pivot_table(index='Last Interaction Level', columns='Churn', aggfunc='size', fill_value=0)\n",
    "sns.heatmap(interaction_churn, annot=True, cmap='YlGnBu', fmt='d')\n",
    "plt.title('Son Etkileşim Seviyesi İle Müşteri Kaybı Isı Haritası')\n",
    "plt.ylabel('Last Interaction Level')\n",
    "plt.xlabel('Churn')\n",
    "plt.show()"
   ]
  },
  {
   "cell_type": "markdown",
   "id": "a53b40a4",
   "metadata": {
    "papermill": {
     "duration": 0.025662,
     "end_time": "2024-11-21T21:47:38.416876",
     "exception": false,
     "start_time": "2024-11-21T21:47:38.391214",
     "status": "completed"
    },
    "tags": []
   },
   "source": [
    "Sözleşme süresi ve abonelik türü değişkenlerini bir araya getirerek yeni bir değişken oluştururuz ve anlamlı sonuçlara ulaşabiliriz."
   ]
  },
  {
   "cell_type": "code",
   "execution_count": 42,
   "id": "ee392dbd",
   "metadata": {
    "execution": {
     "iopub.execute_input": "2024-11-21T21:47:38.470209Z",
     "iopub.status.busy": "2024-11-21T21:47:38.469807Z",
     "iopub.status.idle": "2024-11-21T21:47:38.656054Z",
     "shell.execute_reply": "2024-11-21T21:47:38.654947Z"
    },
    "papermill": {
     "duration": 0.215405,
     "end_time": "2024-11-21T21:47:38.658049",
     "exception": false,
     "start_time": "2024-11-21T21:47:38.442644",
     "status": "completed"
    },
    "tags": []
   },
   "outputs": [
    {
     "data": {
      "text/html": [
       "<div>\n",
       "<style scoped>\n",
       "    .dataframe tbody tr th:only-of-type {\n",
       "        vertical-align: middle;\n",
       "    }\n",
       "\n",
       "    .dataframe tbody tr th {\n",
       "        vertical-align: top;\n",
       "    }\n",
       "\n",
       "    .dataframe thead th {\n",
       "        text-align: right;\n",
       "    }\n",
       "</style>\n",
       "<table border=\"1\" class=\"dataframe\">\n",
       "  <thead>\n",
       "    <tr style=\"text-align: right;\">\n",
       "      <th></th>\n",
       "      <th>CustomerID</th>\n",
       "      <th>Age</th>\n",
       "      <th>Gender</th>\n",
       "      <th>Tenure</th>\n",
       "      <th>Usage Frequency</th>\n",
       "      <th>Support Calls</th>\n",
       "      <th>Payment Delay</th>\n",
       "      <th>Subscription Type</th>\n",
       "      <th>Contract Length</th>\n",
       "      <th>Total Spend</th>\n",
       "      <th>Last Interaction</th>\n",
       "      <th>Churn</th>\n",
       "      <th>Age Group</th>\n",
       "      <th>Last Interaction Level</th>\n",
       "      <th>Contract_Subscription</th>\n",
       "    </tr>\n",
       "  </thead>\n",
       "  <tbody>\n",
       "    <tr>\n",
       "      <th>0</th>\n",
       "      <td>2.0</td>\n",
       "      <td>30.0</td>\n",
       "      <td>Female</td>\n",
       "      <td>39.0</td>\n",
       "      <td>14.0</td>\n",
       "      <td>5.0</td>\n",
       "      <td>18.0</td>\n",
       "      <td>Standard</td>\n",
       "      <td>Annual</td>\n",
       "      <td>932.0</td>\n",
       "      <td>17.0</td>\n",
       "      <td>1.0</td>\n",
       "      <td>Young Adult</td>\n",
       "      <td>Recent</td>\n",
       "      <td>Annual - Standard</td>\n",
       "    </tr>\n",
       "    <tr>\n",
       "      <th>1</th>\n",
       "      <td>3.0</td>\n",
       "      <td>65.0</td>\n",
       "      <td>Female</td>\n",
       "      <td>49.0</td>\n",
       "      <td>1.0</td>\n",
       "      <td>10.0</td>\n",
       "      <td>8.0</td>\n",
       "      <td>Basic</td>\n",
       "      <td>Monthly</td>\n",
       "      <td>557.0</td>\n",
       "      <td>6.0</td>\n",
       "      <td>1.0</td>\n",
       "      <td>Senior</td>\n",
       "      <td>Very Recent</td>\n",
       "      <td>Monthly - Basic</td>\n",
       "    </tr>\n",
       "    <tr>\n",
       "      <th>2</th>\n",
       "      <td>4.0</td>\n",
       "      <td>55.0</td>\n",
       "      <td>Female</td>\n",
       "      <td>14.0</td>\n",
       "      <td>4.0</td>\n",
       "      <td>6.0</td>\n",
       "      <td>18.0</td>\n",
       "      <td>Basic</td>\n",
       "      <td>Quarterly</td>\n",
       "      <td>185.0</td>\n",
       "      <td>3.0</td>\n",
       "      <td>1.0</td>\n",
       "      <td>Senior</td>\n",
       "      <td>Very Recent</td>\n",
       "      <td>Quarterly - Basic</td>\n",
       "    </tr>\n",
       "    <tr>\n",
       "      <th>3</th>\n",
       "      <td>5.0</td>\n",
       "      <td>58.0</td>\n",
       "      <td>Male</td>\n",
       "      <td>38.0</td>\n",
       "      <td>21.0</td>\n",
       "      <td>7.0</td>\n",
       "      <td>7.0</td>\n",
       "      <td>Standard</td>\n",
       "      <td>Monthly</td>\n",
       "      <td>396.0</td>\n",
       "      <td>29.0</td>\n",
       "      <td>1.0</td>\n",
       "      <td>Senior</td>\n",
       "      <td>Recent</td>\n",
       "      <td>Monthly - Standard</td>\n",
       "    </tr>\n",
       "    <tr>\n",
       "      <th>4</th>\n",
       "      <td>6.0</td>\n",
       "      <td>23.0</td>\n",
       "      <td>Male</td>\n",
       "      <td>32.0</td>\n",
       "      <td>NaN</td>\n",
       "      <td>5.0</td>\n",
       "      <td>8.0</td>\n",
       "      <td>Basic</td>\n",
       "      <td>Monthly</td>\n",
       "      <td>617.0</td>\n",
       "      <td>20.0</td>\n",
       "      <td>1.0</td>\n",
       "      <td>Young Adult</td>\n",
       "      <td>Recent</td>\n",
       "      <td>Monthly - Basic</td>\n",
       "    </tr>\n",
       "  </tbody>\n",
       "</table>\n",
       "</div>"
      ],
      "text/plain": [
       "   CustomerID   Age  Gender  Tenure  Usage Frequency  Support Calls  \\\n",
       "0         2.0  30.0  Female    39.0             14.0            5.0   \n",
       "1         3.0  65.0  Female    49.0              1.0           10.0   \n",
       "2         4.0  55.0  Female    14.0              4.0            6.0   \n",
       "3         5.0  58.0    Male    38.0             21.0            7.0   \n",
       "4         6.0  23.0    Male    32.0              NaN            5.0   \n",
       "\n",
       "   Payment Delay Subscription Type Contract Length  Total Spend  \\\n",
       "0           18.0          Standard          Annual        932.0   \n",
       "1            8.0             Basic         Monthly        557.0   \n",
       "2           18.0             Basic       Quarterly        185.0   \n",
       "3            7.0          Standard         Monthly        396.0   \n",
       "4            8.0             Basic         Monthly        617.0   \n",
       "\n",
       "   Last Interaction  Churn    Age Group Last Interaction Level  \\\n",
       "0              17.0    1.0  Young Adult                 Recent   \n",
       "1               6.0    1.0       Senior            Very Recent   \n",
       "2               3.0    1.0       Senior            Very Recent   \n",
       "3              29.0    1.0       Senior                 Recent   \n",
       "4              20.0    1.0  Young Adult                 Recent   \n",
       "\n",
       "  Contract_Subscription  \n",
       "0     Annual - Standard  \n",
       "1       Monthly - Basic  \n",
       "2     Quarterly - Basic  \n",
       "3    Monthly - Standard  \n",
       "4       Monthly - Basic  "
      ]
     },
     "execution_count": 42,
     "metadata": {},
     "output_type": "execute_result"
    }
   ],
   "source": [
    "df['Contract_Subscription'] = df['Contract Length'].astype(str) + ' - ' + df['Subscription Type']\n",
    "df.head(5)"
   ]
  },
  {
   "cell_type": "markdown",
   "id": "33639cb0",
   "metadata": {
    "papermill": {
     "duration": 0.025608,
     "end_time": "2024-11-21T21:47:38.711654",
     "exception": false,
     "start_time": "2024-11-21T21:47:38.686046",
     "status": "completed"
    },
    "tags": []
   },
   "source": [
    "Müşterinin hizmet aldığı sürenin kategorik olarak ifade edilmesini sağlayabiliriz."
   ]
  },
  {
   "cell_type": "code",
   "execution_count": 43,
   "id": "f5d5af8d",
   "metadata": {
    "execution": {
     "iopub.execute_input": "2024-11-21T21:47:38.765452Z",
     "iopub.status.busy": "2024-11-21T21:47:38.764791Z",
     "iopub.status.idle": "2024-11-21T21:47:38.795665Z",
     "shell.execute_reply": "2024-11-21T21:47:38.794648Z"
    },
    "papermill": {
     "duration": 0.060024,
     "end_time": "2024-11-21T21:47:38.797547",
     "exception": false,
     "start_time": "2024-11-21T21:47:38.737523",
     "status": "completed"
    },
    "tags": []
   },
   "outputs": [
    {
     "data": {
      "text/html": [
       "<div>\n",
       "<style scoped>\n",
       "    .dataframe tbody tr th:only-of-type {\n",
       "        vertical-align: middle;\n",
       "    }\n",
       "\n",
       "    .dataframe tbody tr th {\n",
       "        vertical-align: top;\n",
       "    }\n",
       "\n",
       "    .dataframe thead th {\n",
       "        text-align: right;\n",
       "    }\n",
       "</style>\n",
       "<table border=\"1\" class=\"dataframe\">\n",
       "  <thead>\n",
       "    <tr style=\"text-align: right;\">\n",
       "      <th></th>\n",
       "      <th>CustomerID</th>\n",
       "      <th>Age</th>\n",
       "      <th>Gender</th>\n",
       "      <th>Tenure</th>\n",
       "      <th>Usage Frequency</th>\n",
       "      <th>Support Calls</th>\n",
       "      <th>Payment Delay</th>\n",
       "      <th>Subscription Type</th>\n",
       "      <th>Contract Length</th>\n",
       "      <th>Total Spend</th>\n",
       "      <th>Last Interaction</th>\n",
       "      <th>Churn</th>\n",
       "      <th>Age Group</th>\n",
       "      <th>Last Interaction Level</th>\n",
       "      <th>Contract_Subscription</th>\n",
       "      <th>Tenure Category</th>\n",
       "    </tr>\n",
       "  </thead>\n",
       "  <tbody>\n",
       "    <tr>\n",
       "      <th>0</th>\n",
       "      <td>2.0</td>\n",
       "      <td>30.0</td>\n",
       "      <td>Female</td>\n",
       "      <td>39.0</td>\n",
       "      <td>14.0</td>\n",
       "      <td>5.0</td>\n",
       "      <td>18.0</td>\n",
       "      <td>Standard</td>\n",
       "      <td>Annual</td>\n",
       "      <td>932.0</td>\n",
       "      <td>17.0</td>\n",
       "      <td>1.0</td>\n",
       "      <td>Young Adult</td>\n",
       "      <td>Recent</td>\n",
       "      <td>Annual - Standard</td>\n",
       "      <td>Long Term</td>\n",
       "    </tr>\n",
       "    <tr>\n",
       "      <th>1</th>\n",
       "      <td>3.0</td>\n",
       "      <td>65.0</td>\n",
       "      <td>Female</td>\n",
       "      <td>49.0</td>\n",
       "      <td>1.0</td>\n",
       "      <td>10.0</td>\n",
       "      <td>8.0</td>\n",
       "      <td>Basic</td>\n",
       "      <td>Monthly</td>\n",
       "      <td>557.0</td>\n",
       "      <td>6.0</td>\n",
       "      <td>1.0</td>\n",
       "      <td>Senior</td>\n",
       "      <td>Very Recent</td>\n",
       "      <td>Monthly - Basic</td>\n",
       "      <td>Long Term</td>\n",
       "    </tr>\n",
       "    <tr>\n",
       "      <th>2</th>\n",
       "      <td>4.0</td>\n",
       "      <td>55.0</td>\n",
       "      <td>Female</td>\n",
       "      <td>14.0</td>\n",
       "      <td>4.0</td>\n",
       "      <td>6.0</td>\n",
       "      <td>18.0</td>\n",
       "      <td>Basic</td>\n",
       "      <td>Quarterly</td>\n",
       "      <td>185.0</td>\n",
       "      <td>3.0</td>\n",
       "      <td>1.0</td>\n",
       "      <td>Senior</td>\n",
       "      <td>Very Recent</td>\n",
       "      <td>Quarterly - Basic</td>\n",
       "      <td>Medium Term</td>\n",
       "    </tr>\n",
       "    <tr>\n",
       "      <th>3</th>\n",
       "      <td>5.0</td>\n",
       "      <td>58.0</td>\n",
       "      <td>Male</td>\n",
       "      <td>38.0</td>\n",
       "      <td>21.0</td>\n",
       "      <td>7.0</td>\n",
       "      <td>7.0</td>\n",
       "      <td>Standard</td>\n",
       "      <td>Monthly</td>\n",
       "      <td>396.0</td>\n",
       "      <td>29.0</td>\n",
       "      <td>1.0</td>\n",
       "      <td>Senior</td>\n",
       "      <td>Recent</td>\n",
       "      <td>Monthly - Standard</td>\n",
       "      <td>Long Term</td>\n",
       "    </tr>\n",
       "    <tr>\n",
       "      <th>4</th>\n",
       "      <td>6.0</td>\n",
       "      <td>23.0</td>\n",
       "      <td>Male</td>\n",
       "      <td>32.0</td>\n",
       "      <td>NaN</td>\n",
       "      <td>5.0</td>\n",
       "      <td>8.0</td>\n",
       "      <td>Basic</td>\n",
       "      <td>Monthly</td>\n",
       "      <td>617.0</td>\n",
       "      <td>20.0</td>\n",
       "      <td>1.0</td>\n",
       "      <td>Young Adult</td>\n",
       "      <td>Recent</td>\n",
       "      <td>Monthly - Basic</td>\n",
       "      <td>Medium Term</td>\n",
       "    </tr>\n",
       "  </tbody>\n",
       "</table>\n",
       "</div>"
      ],
      "text/plain": [
       "   CustomerID   Age  Gender  Tenure  Usage Frequency  Support Calls  \\\n",
       "0         2.0  30.0  Female    39.0             14.0            5.0   \n",
       "1         3.0  65.0  Female    49.0              1.0           10.0   \n",
       "2         4.0  55.0  Female    14.0              4.0            6.0   \n",
       "3         5.0  58.0    Male    38.0             21.0            7.0   \n",
       "4         6.0  23.0    Male    32.0              NaN            5.0   \n",
       "\n",
       "   Payment Delay Subscription Type Contract Length  Total Spend  \\\n",
       "0           18.0          Standard          Annual        932.0   \n",
       "1            8.0             Basic         Monthly        557.0   \n",
       "2           18.0             Basic       Quarterly        185.0   \n",
       "3            7.0          Standard         Monthly        396.0   \n",
       "4            8.0             Basic         Monthly        617.0   \n",
       "\n",
       "   Last Interaction  Churn    Age Group Last Interaction Level  \\\n",
       "0              17.0    1.0  Young Adult                 Recent   \n",
       "1               6.0    1.0       Senior            Very Recent   \n",
       "2               3.0    1.0       Senior            Very Recent   \n",
       "3              29.0    1.0       Senior                 Recent   \n",
       "4              20.0    1.0  Young Adult                 Recent   \n",
       "\n",
       "  Contract_Subscription Tenure Category  \n",
       "0     Annual - Standard       Long Term  \n",
       "1       Monthly - Basic       Long Term  \n",
       "2     Quarterly - Basic     Medium Term  \n",
       "3    Monthly - Standard       Long Term  \n",
       "4       Monthly - Basic     Medium Term  "
      ]
     },
     "execution_count": 43,
     "metadata": {},
     "output_type": "execute_result"
    }
   ],
   "source": [
    "df['Tenure Category'] = pd.cut(df['Tenure'], bins=[0, 12, 36, 72, 100], \n",
    "                               labels=['Short Term', 'Medium Term', 'Long Term', 'Very Long Term'])\n",
    "df.head(5)"
   ]
  },
  {
   "cell_type": "markdown",
   "id": "e25ee757",
   "metadata": {
    "papermill": {
     "duration": 0.02615,
     "end_time": "2024-11-21T21:47:38.850132",
     "exception": false,
     "start_time": "2024-11-21T21:47:38.823982",
     "status": "completed"
    },
    "tags": []
   },
   "source": [
    "Müşterinin hizmet süresi, destek çağrıları ve ödeme gecikmeleri üzerinden kayıp risk skoru oluşturabiliriz. Bu skorlara göre müşteri kaybı risklerini gözetebiliriz."
   ]
  },
  {
   "cell_type": "code",
   "execution_count": 44,
   "id": "3cdc42e5",
   "metadata": {
    "execution": {
     "iopub.execute_input": "2024-11-21T21:47:38.904814Z",
     "iopub.status.busy": "2024-11-21T21:47:38.903900Z",
     "iopub.status.idle": "2024-11-21T21:47:38.929504Z",
     "shell.execute_reply": "2024-11-21T21:47:38.928447Z"
    },
    "papermill": {
     "duration": 0.055299,
     "end_time": "2024-11-21T21:47:38.931453",
     "exception": false,
     "start_time": "2024-11-21T21:47:38.876154",
     "status": "completed"
    },
    "tags": []
   },
   "outputs": [
    {
     "data": {
      "text/html": [
       "<div>\n",
       "<style scoped>\n",
       "    .dataframe tbody tr th:only-of-type {\n",
       "        vertical-align: middle;\n",
       "    }\n",
       "\n",
       "    .dataframe tbody tr th {\n",
       "        vertical-align: top;\n",
       "    }\n",
       "\n",
       "    .dataframe thead th {\n",
       "        text-align: right;\n",
       "    }\n",
       "</style>\n",
       "<table border=\"1\" class=\"dataframe\">\n",
       "  <thead>\n",
       "    <tr style=\"text-align: right;\">\n",
       "      <th></th>\n",
       "      <th>CustomerID</th>\n",
       "      <th>Age</th>\n",
       "      <th>Gender</th>\n",
       "      <th>Tenure</th>\n",
       "      <th>Usage Frequency</th>\n",
       "      <th>Support Calls</th>\n",
       "      <th>Payment Delay</th>\n",
       "      <th>Subscription Type</th>\n",
       "      <th>Contract Length</th>\n",
       "      <th>Total Spend</th>\n",
       "      <th>Last Interaction</th>\n",
       "      <th>Churn</th>\n",
       "      <th>Age Group</th>\n",
       "      <th>Last Interaction Level</th>\n",
       "      <th>Contract_Subscription</th>\n",
       "      <th>Tenure Category</th>\n",
       "      <th>Churn Risk Score</th>\n",
       "    </tr>\n",
       "  </thead>\n",
       "  <tbody>\n",
       "    <tr>\n",
       "      <th>0</th>\n",
       "      <td>2.0</td>\n",
       "      <td>30.0</td>\n",
       "      <td>Female</td>\n",
       "      <td>39.0</td>\n",
       "      <td>14.0</td>\n",
       "      <td>5.0</td>\n",
       "      <td>18.0</td>\n",
       "      <td>Standard</td>\n",
       "      <td>Annual</td>\n",
       "      <td>932.0</td>\n",
       "      <td>17.0</td>\n",
       "      <td>1.0</td>\n",
       "      <td>Young Adult</td>\n",
       "      <td>Recent</td>\n",
       "      <td>Annual - Standard</td>\n",
       "      <td>Long Term</td>\n",
       "      <td>3.510</td>\n",
       "    </tr>\n",
       "    <tr>\n",
       "      <th>1</th>\n",
       "      <td>3.0</td>\n",
       "      <td>65.0</td>\n",
       "      <td>Female</td>\n",
       "      <td>49.0</td>\n",
       "      <td>1.0</td>\n",
       "      <td>10.0</td>\n",
       "      <td>8.0</td>\n",
       "      <td>Basic</td>\n",
       "      <td>Monthly</td>\n",
       "      <td>557.0</td>\n",
       "      <td>6.0</td>\n",
       "      <td>1.0</td>\n",
       "      <td>Senior</td>\n",
       "      <td>Very Recent</td>\n",
       "      <td>Monthly - Basic</td>\n",
       "      <td>Long Term</td>\n",
       "      <td>3.920</td>\n",
       "    </tr>\n",
       "    <tr>\n",
       "      <th>2</th>\n",
       "      <td>4.0</td>\n",
       "      <td>55.0</td>\n",
       "      <td>Female</td>\n",
       "      <td>14.0</td>\n",
       "      <td>4.0</td>\n",
       "      <td>6.0</td>\n",
       "      <td>18.0</td>\n",
       "      <td>Basic</td>\n",
       "      <td>Quarterly</td>\n",
       "      <td>185.0</td>\n",
       "      <td>3.0</td>\n",
       "      <td>1.0</td>\n",
       "      <td>Senior</td>\n",
       "      <td>Very Recent</td>\n",
       "      <td>Quarterly - Basic</td>\n",
       "      <td>Medium Term</td>\n",
       "      <td>1.512</td>\n",
       "    </tr>\n",
       "    <tr>\n",
       "      <th>3</th>\n",
       "      <td>5.0</td>\n",
       "      <td>58.0</td>\n",
       "      <td>Male</td>\n",
       "      <td>38.0</td>\n",
       "      <td>21.0</td>\n",
       "      <td>7.0</td>\n",
       "      <td>7.0</td>\n",
       "      <td>Standard</td>\n",
       "      <td>Monthly</td>\n",
       "      <td>396.0</td>\n",
       "      <td>29.0</td>\n",
       "      <td>1.0</td>\n",
       "      <td>Senior</td>\n",
       "      <td>Recent</td>\n",
       "      <td>Monthly - Standard</td>\n",
       "      <td>Long Term</td>\n",
       "      <td>1.862</td>\n",
       "    </tr>\n",
       "    <tr>\n",
       "      <th>4</th>\n",
       "      <td>6.0</td>\n",
       "      <td>23.0</td>\n",
       "      <td>Male</td>\n",
       "      <td>32.0</td>\n",
       "      <td>NaN</td>\n",
       "      <td>5.0</td>\n",
       "      <td>8.0</td>\n",
       "      <td>Basic</td>\n",
       "      <td>Monthly</td>\n",
       "      <td>617.0</td>\n",
       "      <td>20.0</td>\n",
       "      <td>1.0</td>\n",
       "      <td>Young Adult</td>\n",
       "      <td>Recent</td>\n",
       "      <td>Monthly - Basic</td>\n",
       "      <td>Medium Term</td>\n",
       "      <td>1.280</td>\n",
       "    </tr>\n",
       "  </tbody>\n",
       "</table>\n",
       "</div>"
      ],
      "text/plain": [
       "   CustomerID   Age  Gender  Tenure  Usage Frequency  Support Calls  \\\n",
       "0         2.0  30.0  Female    39.0             14.0            5.0   \n",
       "1         3.0  65.0  Female    49.0              1.0           10.0   \n",
       "2         4.0  55.0  Female    14.0              4.0            6.0   \n",
       "3         5.0  58.0    Male    38.0             21.0            7.0   \n",
       "4         6.0  23.0    Male    32.0              NaN            5.0   \n",
       "\n",
       "   Payment Delay Subscription Type Contract Length  Total Spend  \\\n",
       "0           18.0          Standard          Annual        932.0   \n",
       "1            8.0             Basic         Monthly        557.0   \n",
       "2           18.0             Basic       Quarterly        185.0   \n",
       "3            7.0          Standard         Monthly        396.0   \n",
       "4            8.0             Basic         Monthly        617.0   \n",
       "\n",
       "   Last Interaction  Churn    Age Group Last Interaction Level  \\\n",
       "0              17.0    1.0  Young Adult                 Recent   \n",
       "1               6.0    1.0       Senior            Very Recent   \n",
       "2               3.0    1.0       Senior            Very Recent   \n",
       "3              29.0    1.0       Senior                 Recent   \n",
       "4              20.0    1.0  Young Adult                 Recent   \n",
       "\n",
       "  Contract_Subscription Tenure Category  Churn Risk Score  \n",
       "0     Annual - Standard       Long Term             3.510  \n",
       "1       Monthly - Basic       Long Term             3.920  \n",
       "2     Quarterly - Basic     Medium Term             1.512  \n",
       "3    Monthly - Standard       Long Term             1.862  \n",
       "4       Monthly - Basic     Medium Term             1.280  "
      ]
     },
     "execution_count": 44,
     "metadata": {},
     "output_type": "execute_result"
    }
   ],
   "source": [
    "df['Churn Risk Score'] = (df['Tenure'] * df['Support Calls'] * df['Payment Delay']) / 1000\n",
    "df.head(5)"
   ]
  }
 ],
 "metadata": {
  "kaggle": {
   "accelerator": "none",
   "dataSources": [
    {
     "datasetId": 3404076,
     "sourceId": 5929113,
     "sourceType": "datasetVersion"
    }
   ],
   "dockerImageVersionId": 30786,
   "isGpuEnabled": false,
   "isInternetEnabled": true,
   "language": "python",
   "sourceType": "notebook"
  },
  "kernelspec": {
   "display_name": "Python 3",
   "language": "python",
   "name": "python3"
  },
  "language_info": {
   "codemirror_mode": {
    "name": "ipython",
    "version": 3
   },
   "file_extension": ".py",
   "mimetype": "text/x-python",
   "name": "python",
   "nbconvert_exporter": "python",
   "pygments_lexer": "ipython3",
   "version": "3.10.14"
  },
  "papermill": {
   "default_parameters": {},
   "duration": 30.181034,
   "end_time": "2024-11-21T21:47:39.579179",
   "environment_variables": {},
   "exception": null,
   "input_path": "__notebook__.ipynb",
   "output_path": "__notebook__.ipynb",
   "parameters": {},
   "start_time": "2024-11-21T21:47:09.398145",
   "version": "2.6.0"
  }
 },
 "nbformat": 4,
 "nbformat_minor": 5
}
